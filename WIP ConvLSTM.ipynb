{
 "cells": [
  {
   "cell_type": "code",
   "execution_count": 1,
   "id": "546b1a20",
   "metadata": {},
   "outputs": [],
   "source": [
    "import xarray as xr\n",
    "import pandas as pd\n",
    "data_temp = xr.open_mfdataset(r\"C:\\Users\\iarla\\OneDrive\\Documents\\MSc_Project\\HadUK_data\\12km_Month_Temp\\*.nc\", parallel=False)\n",
    "data_tmax = xr.open_mfdataset(r\"C:\\Users\\iarla\\OneDrive\\Documents\\MSc_Project\\HadUK_data\\12km_Month_tmax\\*.nc\", parallel=False)\n",
    "data_tmin = xr.open_mfdataset(r\"C:\\Users\\iarla\\OneDrive\\Documents\\MSc_Project\\HadUK_data\\12km_Month_tmin\\*.nc\", parallel=False)\n",
    "data_rain = xr.open_mfdataset(r\"C:\\Users\\iarla\\OneDrive\\Documents\\MSc_Project\\HadUK_data\\12km_Month_Rain\\*.nc\", parallel=False)\n",
    "data_hurs = xr.open_mfdataset(r\"C:\\Users\\iarla\\OneDrive\\Documents\\MSc_Project\\HadUK_data\\12km_Month_Humidity\\*.nc\", parallel=False)\n",
    "data_sun = xr.open_mfdataset(r\"C:\\Users\\iarla\\OneDrive\\Documents\\MSc_Project\\HadUK_data\\12km_Month_Sun\\*.nc\", parallel=False)\n",
    "data_frost = xr.open_mfdataset(r\"C:\\Users\\iarla\\OneDrive\\Documents\\MSc_Project\\HadUK_data\\12km_Month_Frost\\*.nc\", parallel=False)\n",
    "data_psl = xr.open_mfdataset(r\"C:\\Users\\iarla\\OneDrive\\Documents\\MSc_Project\\HadUK_data\\12km_Month_psl\\*.nc\", parallel=False)\n",
    "data_wind = xr.open_mfdataset(r\"C:\\Users\\iarla\\OneDrive\\Documents\\MSc_Project\\HadUK_data\\12km_Month_Wind\\*.nc\", parallel=False)"
   ]
  },
  {
   "cell_type": "code",
   "execution_count": 2,
   "id": "4bce528d",
   "metadata": {},
   "outputs": [],
   "source": [
    "import numpy as np\n",
    "\n",
    "rain = np.array(data_rain['rainfall'])\n",
    "hurs = np.array(data_hurs['hurs'])\n",
    "temp = np.array(data_temp['tas'])\n",
    "temp_max = np.array(data_tmax['tasmax'])\n",
    "temp_min = np.array(data_tmin['tasmin'])\n",
    "sun = np.array(data_sun['sun'])\n",
    "frost = np.array(data_frost['groundfrost'])\n",
    "psl = np.array(data_psl['psl'])\n",
    "wind = np.array(data_wind['sfcWind'])\n",
    "\n",
    "min_length = len(wind)\n",
    "rain = rain[:min_length]\n",
    "hurs = hurs[:min_length]\n",
    "temp = temp[:min_length]\n",
    "temp_max = temp_max[:min_length]\n",
    "temp_min = temp_min[:min_length]\n",
    "sun = sun[:min_length]\n",
    "frost = frost[:min_length]\n",
    "wind = wind[:min_length]\n",
    "psl = psl[:min_length]"
   ]
  },
  {
   "cell_type": "code",
   "execution_count": 3,
   "id": "a78b7095",
   "metadata": {},
   "outputs": [
    {
     "name": "stdout",
     "output_type": "stream",
     "text": [
      "(648, 112, 82)\n",
      "(648, 112, 82)\n"
     ]
    }
   ],
   "source": [
    "import torch \n",
    "\n",
    "land_mask = ~np.isnan(temp)\n",
    "land_mask_torch = torch.from_numpy(land_mask.astype(bool)) \n",
    "\n",
    "print(temp.shape)\n",
    "print(land_mask.shape)"
   ]
  },
  {
   "cell_type": "code",
   "execution_count": 4,
   "id": "6c47d483",
   "metadata": {},
   "outputs": [],
   "source": [
    "from skimage import measure\n",
    "\n",
    "# Connected components labeling\n",
    "labels = measure.label(land_mask)\n",
    "biggest_component_label = np.argmax(np.bincount(labels.flat)[1:]) + 1  \n",
    "\n",
    "# Isolate the biggest component\n",
    "main_landmass_mask = (labels == biggest_component_label) \n",
    "\n",
    "# Get indices for bounding box\n",
    "nonzero_indices = main_landmass_mask.nonzero()\n",
    "min_row = np.min(nonzero_indices[1])\n",
    "max_row = np.max(nonzero_indices[1])\n",
    "min_col = np.min(nonzero_indices[2])\n",
    "max_col = np.max(nonzero_indices[2])"
   ]
  },
  {
   "cell_type": "code",
   "execution_count": 5,
   "id": "607071b3",
   "metadata": {},
   "outputs": [],
   "source": [
    "rain = rain[:, min_row:max_row + 1, min_col:max_col + 1]\n",
    "hurs = hurs[:, min_row:max_row + 1, min_col:max_col + 1]\n",
    "temp = temp[:, min_row:max_row + 1, min_col:max_col + 1]\n",
    "temp_max = temp_max[:, min_row:max_row + 1, min_col:max_col + 1]\n",
    "temp_min = temp_min[:, min_row:max_row + 1, min_col:max_col + 1]\n",
    "sun = sun[:, min_row:max_row + 1, min_col:max_col + 1] \n",
    "frost = frost[:, min_row:max_row + 1, min_col:max_col + 1] \n",
    "psl = psl[:, min_row:max_row + 1, min_col:max_col + 1] \n",
    "wind = wind[:, min_row:max_row + 1, min_col:max_col + 1] \n",
    "land_mask = land_mask[:, min_row:max_row + 1, min_col:max_col + 1]"
   ]
  },
  {
   "cell_type": "code",
   "execution_count": 6,
   "id": "30ea7b33",
   "metadata": {},
   "outputs": [],
   "source": [
    "nan_counts = np.count_nonzero(np.isnan(rain), axis=0)  # Counts across time\n",
    "\n",
    "valid_grid_cell_mask = nan_counts == 0\n",
    "valid_cell_indices = np.where(valid_grid_cell_mask)"
   ]
  },
  {
   "cell_type": "code",
   "execution_count": 7,
   "id": "f95e83ca",
   "metadata": {},
   "outputs": [],
   "source": [
    "# Your arrays from the previous output:\n",
    "row_indices = valid_cell_indices[0]\n",
    "col_indices = valid_cell_indices[1]\n",
    "\n",
    "unique_rows, row_counts = np.unique(row_indices, return_counts=True)\n",
    "unique_cols, col_counts = np.unique(col_indices, return_counts=True)"
   ]
  },
  {
   "cell_type": "code",
   "execution_count": 8,
   "id": "2ed83444",
   "metadata": {},
   "outputs": [
    {
     "data": {
      "image/png": "[encoded data removed]",
      "text/plain": [
       "<Figure size 1000x600 with 1 Axes>"
      ]
     },
     "metadata": {},
     "output_type": "display_data"
    }
   ],
   "source": [
    "import matplotlib.pyplot as plt\n",
    "\n",
    "valid_row_indices = valid_cell_indices[0]  # Extract row indices\n",
    "valid_col_indices = valid_cell_indices[1]  # Extract column indices\n",
    "\n",
    "time_step = 183\n",
    "\n",
    "original_rain_slice = rain[time_step, :, :]  \n",
    "original_temp_slice = temp[time_step, :, :]\n",
    "\n",
    "# Visualization\n",
    "plt.figure(figsize=(10, 6)) \n",
    "plt.imshow(original_rain_slice, cmap='viridis')  # Faint background\n",
    "plt.imshow(original_temp_slice, cmap='gray')  \n",
    "plt.xlabel('Column Index')\n",
    "plt.ylabel('Row Index')\n",
    "plt.title('Valid Rain Cells (Time Step {})'.format(time_step))\n",
    "plt.show()"
   ]
  },
  {
   "cell_type": "code",
   "execution_count": 9,
   "id": "dbc60ed6",
   "metadata": {},
   "outputs": [],
   "source": [
    "valid_row_indices = valid_cell_indices[0]  # Extract row indices\n",
    "valid_col_indices = valid_cell_indices[1]  # Extract column indices\n",
    "\n",
    "valid_rain_data = rain[:, valid_row_indices, valid_col_indices]"
   ]
  },
  {
   "cell_type": "code",
   "execution_count": 10,
   "id": "6fbbf3cf",
   "metadata": {},
   "outputs": [],
   "source": [
    "valid_temp_data = temp[:, valid_row_indices, valid_col_indices]\n",
    "valid_wind_data = wind[:, valid_row_indices, valid_col_indices]\n",
    "valid_hurs_data = hurs[:, valid_row_indices, valid_col_indices]\n",
    "valid_psl_data = psl[:, valid_row_indices, valid_col_indices]\n",
    "valid_frost_data = frost[:, valid_row_indices, valid_col_indices]\n",
    "valid_sun_data = sun[:, valid_row_indices, valid_col_indices]\n",
    "valid_tmax_data = temp_max[:, valid_row_indices, valid_col_indices]\n",
    "valid_tmin_data = temp_min[:, valid_row_indices, valid_col_indices]"
   ]
  },
  {
   "cell_type": "code",
   "execution_count": 11,
   "id": "95ac5ce2",
   "metadata": {},
   "outputs": [],
   "source": [
    "valid_rain_data = valid_rain_data[:,:1600].reshape(648, 64, 25)\n",
    "valid_temp_data = valid_temp_data[:,:1600].reshape(648, 64, 25)\n",
    "valid_wind_data = valid_wind_data[:,:1600].reshape(648, 64, 25)\n",
    "valid_hurs_data = valid_hurs_data[:,:1600].reshape(648, 64, 25)\n",
    "valid_psl_data = valid_psl_data[:,:1600].reshape(648, 64, 25)\n",
    "valid_sun_data = valid_sun_data[:,:1600].reshape(648, 64, 25)\n",
    "valid_frost_data = valid_frost_data[:,:1600].reshape(648, 64, 25)\n",
    "valid_tmax_data = valid_tmax_data[:,:1600].reshape(648, 64, 25)\n",
    "valid_tmin_data = valid_tmin_data[:,:1600].reshape(648, 64, 25)"
   ]
  },
  {
   "cell_type": "code",
   "execution_count": 12,
   "id": "cd9e9bfd",
   "metadata": {},
   "outputs": [
    {
     "data": {
      "image/png": "[encoded data removed]",
      "text/plain": [
       "<Figure size 800x600 with 1 Axes>"
      ]
     },
     "metadata": {},
     "output_type": "display_data"
    }
   ],
   "source": [
    "import matplotlib.pyplot as plt\n",
    "plt.figure(figsize=(8,6))\n",
    "plt.imshow(valid_rain_data[183,:,:], cmap='viridis')  # Sample timestep\n",
    "plt.imshow(valid_temp_data[183,:,:], cmap='gray')\n",
    "plt.show()"
   ]
  },
  {
   "cell_type": "code",
   "execution_count": 13,
   "id": "dd5b263c",
   "metadata": {},
   "outputs": [],
   "source": [
    "def fill_nan_with_mean(data):\n",
    "    col_mean = np.nanmean(data, axis=0)  # Calculate mean per column\n",
    "    inds = np.where(np.isnan(data))\n",
    "    data[inds] = np.take(col_mean, inds[1])  # Replace NaNs with mean\n",
    "    return data\n",
    "\n",
    "temp_filled = fill_nan_with_mean(valid_temp_data.copy())  \n",
    "tmax_filled = fill_nan_with_mean(valid_tmax_data.copy())\n",
    "tmin_filled = fill_nan_with_mean(valid_tmin_data.copy())\n",
    "wind_filled = fill_nan_with_mean(valid_wind_data.copy())"
   ]
  },
  {
   "cell_type": "code",
   "execution_count": 14,
   "id": "2dce69fb",
   "metadata": {},
   "outputs": [],
   "source": [
    "rain_tensor = torch.from_numpy(valid_rain_data)\n",
    "temp_tensor = torch.from_numpy(temp_filled)\n",
    "hurs_tensor = torch.from_numpy(valid_hurs_data)\n",
    "frost_tensor = torch.from_numpy(valid_frost_data)\n",
    "sun_tensor = torch.from_numpy(valid_sun_data)\n",
    "wind_tensor = torch.from_numpy(wind_filled)\n",
    "psl_tensor = torch.from_numpy(valid_psl_data)\n",
    "tmax_tensor = torch.from_numpy(tmax_filled)\n",
    "tmin_tensor = torch.from_numpy(tmin_filled)"
   ]
  },
  {
   "cell_type": "code",
   "execution_count": 15,
   "id": "0992a8a0",
   "metadata": {},
   "outputs": [],
   "source": [
    "variables = [rain_tensor, temp_tensor, hurs_tensor, frost_tensor, sun_tensor, wind_tensor, psl_tensor, tmax_tensor, tmin_tensor] \n",
    "\n",
    "# Stack along the channels dimension (dim=1)\n",
    "stacked_tensor = torch.stack(variables, dim=1) "
   ]
  },
  {
   "cell_type": "code",
   "execution_count": 16,
   "id": "10f949b7",
   "metadata": {},
   "outputs": [
    {
     "name": "stdout",
     "output_type": "stream",
     "text": [
      "(648, 9, 64, 25)\n"
     ]
    }
   ],
   "source": [
    "stacked_array = stacked_tensor.numpy() \n",
    "\n",
    "print(stacked_array.shape)\n"
   ]
  },
  {
   "cell_type": "code",
   "execution_count": 17,
   "id": "4add01cd",
   "metadata": {},
   "outputs": [],
   "source": [
    "months_pre_1990 = 21 * 12\n",
    "# Number of months from 1969 to 2022\n",
    "total_months = (2022 - 1969 + 1) * 12\n",
    "\n",
    "# Generate labels\n",
    "labels = np.zeros(total_months, dtype=int)\n",
    "labels[months_pre_1990:] = 1  # Set post-1990 labels"
   ]
  },
  {
   "cell_type": "code",
   "execution_count": 18,
   "id": "7fea77df",
   "metadata": {},
   "outputs": [
    {
     "name": "stdout",
     "output_type": "stream",
     "text": [
      "Number of '0' labels (pre-1990): 252\n",
      "Number of '1' labels (post-1990): 396\n",
      "Label of December 1989 (should be 0): 0\n",
      "Label of January 1990 (should be 1): 1\n",
      "Total number of months: 648\n"
     ]
    }
   ],
   "source": [
    "print(\"Number of '0' labels (pre-1990):\", np.sum(labels == 0))\n",
    "print(\"Number of '1' labels (post-1990):\", np.sum(labels == 1))\n",
    "\n",
    "# Check the last label before the change\n",
    "print(\"Label of December 1989 (should be 0):\", labels[251])  # 252nd month since index starts at 0\n",
    "# Check the first label after the change\n",
    "print(\"Label of January 1990 (should be 1):\", labels[252])\n",
    "\n",
    "print(\"Total number of months:\", len(labels))"
   ]
  },
  {
   "cell_type": "code",
   "execution_count": 19,
   "id": "70bcab0b",
   "metadata": {},
   "outputs": [],
   "source": [
    "import torch\n",
    "\n",
    "# Convert data and labels to tensors\n",
    "data_tensor = torch.tensor(stacked_array, dtype=torch.float32)\n",
    "labels_tensor = torch.tensor(labels, dtype=torch.long)"
   ]
  },
  {
   "cell_type": "code",
   "execution_count": 20,
   "id": "1e2fd363",
   "metadata": {},
   "outputs": [
    {
     "name": "stdout",
     "output_type": "stream",
     "text": [
      "Shape of the data torch.Size([648, 9, 64, 25])\n",
      "Shape of the labels torch.Size([648])\n"
     ]
    }
   ],
   "source": [
    "print('Shape of the data',data_tensor.shape)\n",
    "print('Shape of the labels',labels_tensor.shape)"
   ]
  },
  {
   "cell_type": "code",
   "execution_count": 21,
   "id": "0e2bb1a4",
   "metadata": {},
   "outputs": [],
   "source": [
    "import torch\n",
    "import torch.nn as nn\n",
    "\n",
    "class ConvLSTMCell(nn.Module):\n",
    "    def __init__(self, input_dim, hidden_dim, kernel_size, bias=True):\n",
    "        super(ConvLSTMCell, self).__init__()\n",
    "        self.input_dim = input_dim\n",
    "        self.hidden_dim = hidden_dim\n",
    "        self.kernel_size = kernel_size\n",
    "        self.padding = kernel_size[0] // 2, kernel_size[1] // 2\n",
    "        self.bias = bias\n",
    "\n",
    "        self.conv = nn.Conv2d(\n",
    "            in_channels=input_dim + hidden_dim,  # Sum of input and hidden state dimensions\n",
    "            out_channels=4 * hidden_dim,\n",
    "            kernel_size=self.kernel_size,\n",
    "            padding=self.padding,\n",
    "            bias=self.bias\n",
    "        )\n",
    "\n",
    "    def forward(self, input_tensor, cur_state):\n",
    "        h_cur, c_cur = cur_state\n",
    "        combined = torch.cat([input_tensor, h_cur], dim=1)\n",
    "        combined_conv = self.conv(combined)\n",
    "        cc_i, cc_f, cc_o, cc_g = torch.split(combined_conv, self.hidden_dim, dim=1)\n",
    "        i = torch.sigmoid(cc_i)\n",
    "        f = torch.sigmoid(cc_f)\n",
    "        o = torch.sigmoid(cc_o)\n",
    "        g = torch.tanh(cc_g)\n",
    "        c_next = f * c_cur + i * g\n",
    "        h_next = o * torch.tanh(c_next)\n",
    "        return h_next, c_next\n",
    "\n",
    "    def init_hidden(self, batch_size, image_size):\n",
    "        height, width = image_size\n",
    "        return (torch.zeros(batch_size, self.hidden_dim, height, width, device=self.conv.weight.device),\n",
    "                torch.zeros(batch_size, self.hidden_dim, height, width, device=self.conv.weight.device))\n",
    "\n",
    "class ConvLSTM(nn.Module):\n",
    "    def __init__(self, input_dim, hidden_dims, kernel_sizes, num_layers, seq_length, num_classes=2, batch_first=True, bias=True):\n",
    "        super(ConvLSTM, self).__init__()\n",
    "        self.seq_length = seq_length\n",
    "        self.batch_first = batch_first\n",
    "        self.cell_list = nn.ModuleList()\n",
    "\n",
    "        cur_input_dim = input_dim\n",
    "        for i in range(num_layers):\n",
    "            self.cell_list.append(ConvLSTMCell(cur_input_dim, hidden_dims[i], kernel_sizes[i], bias))\n",
    "            cur_input_dim = hidden_dims[i]  # Use the hidden dimension as the next layer's input dimension\n",
    "\n",
    "        self.classifier = nn.Linear(hidden_dims[-1], num_classes)\n",
    "\n",
    "    def forward(self, x):\n",
    "        b, seq_len, _, h, w = x.size()\n",
    "        hidden_states = [cell.init_hidden(b, (h, w)) for cell in self.cell_list]\n",
    "        \n",
    "        for time_step in range(seq_len):\n",
    "            x_t = x[:, time_step, :, :, :]\n",
    "            for i, cell in enumerate(self.cell_list):\n",
    "                h, c = hidden_states[i]\n",
    "                h, c = cell(x_t, (h, c))\n",
    "                x_t = h  # Output of current cell becomes input to the next\n",
    "\n",
    "        x_t = x_t.mean(dim=[2, 3])  # Apply global average pooling\n",
    "        out = self.classifier(x_t)\n",
    "        return out"
   ]
  },
  {
   "cell_type": "code",
   "execution_count": 22,
   "id": "804c3c61",
   "metadata": {},
   "outputs": [],
   "source": [
    "import torch\n",
    "from torch.utils.data import TensorDataset, DataLoader, random_split\n",
    "\n",
    "# Assuming data_tensor and labels_tensor are already defined\n",
    "seq_length = 12\n",
    "num_sequences = data_tensor.shape[0] // seq_length\n",
    "\n",
    "# Reshape data to [num_sequences, seq_length, channels, height, width]\n",
    "data_tensor_seq = data_tensor.view(num_sequences, seq_length, data_tensor.shape[1], data_tensor.shape[2], data_tensor.shape[3])\n",
    "\n",
    "# Assign labels to sequences; each sequence takes the label of its first month\n",
    "labels_tensor_seq = labels_tensor[0:num_sequences * seq_length:seq_length]  # Pick the first month's label for each sequence\n",
    "\n",
    "# Create TensorDataset\n",
    "dataset = TensorDataset(data_tensor_seq, labels_tensor_seq)\n",
    "\n",
    "# Split the dataset\n",
    "train_size = int(0.7 * len(dataset))\n",
    "val_size = int(0.15 * len(dataset))\n",
    "test_size = len(dataset) - train_size - val_size\n",
    "train_dataset, val_dataset, test_dataset = random_split(dataset, [train_size, val_size, test_size])\n"
   ]
  },
  {
   "cell_type": "code",
   "execution_count": 23,
   "id": "e5b17709",
   "metadata": {},
   "outputs": [
    {
     "name": "stdout",
     "output_type": "stream",
     "text": [
      "Input data shape torch.Size([54, 12, 9, 64, 25])\n",
      "Labels shape torch.Size([54])\n"
     ]
    }
   ],
   "source": [
    "print('Input data shape', data_tensor_seq.shape)\n",
    "print('Labels shape', labels_tensor_seq.shape)"
   ]
  },
  {
   "cell_type": "code",
   "execution_count": 24,
   "id": "d5ff0cd1",
   "metadata": {},
   "outputs": [
    {
     "name": "stdout",
     "output_type": "stream",
     "text": [
      "Training dataset size: 37\n",
      "Validation dataset size: 8\n",
      "Testing dataset size: 9\n"
     ]
    }
   ],
   "source": [
    "print(f\"Training dataset size: {len(train_dataset)}\")\n",
    "print(f\"Validation dataset size: {len(val_dataset)}\")\n",
    "print(f\"Testing dataset size: {len(test_dataset)}\")\n",
    "\n",
    "\n",
    "batch_size = 16  # Define a suitable batch size\n",
    "\n",
    "# Create DataLoaders for all datasets\n",
    "train_loader = DataLoader(train_dataset, batch_size=batch_size, shuffle=True)\n",
    "val_loader = DataLoader(val_dataset, batch_size=batch_size, shuffle=False)\n",
    "test_loader = DataLoader(test_dataset, batch_size=batch_size, shuffle=False)"
   ]
  },
  {
   "cell_type": "code",
   "execution_count": 27,
   "id": "e0e8eeca",
   "metadata": {},
   "outputs": [
    {
     "name": "stdout",
     "output_type": "stream",
     "text": [
      "ConvLSTM(\n",
      "  (cell_list): ModuleList(\n",
      "    (0): ConvLSTMCell(\n",
      "      (conv): Conv2d(265, 1024, kernel_size=(3, 3), stride=(1, 1), padding=(1, 1))\n",
      "    )\n",
      "    (1): ConvLSTMCell(\n",
      "      (conv): Conv2d(384, 512, kernel_size=(3, 3), stride=(1, 1), padding=(1, 1))\n",
      "    )\n",
      "    (2): ConvLSTMCell(\n",
      "      (conv): Conv2d(192, 256, kernel_size=(3, 3), stride=(1, 1), padding=(1, 1))\n",
      "    )\n",
      "  )\n",
      "  (classifier): Linear(in_features=64, out_features=2, bias=True)\n",
      ")\n"
     ]
    }
   ],
   "source": [
    "import torch    \n",
    "\n",
    "model = ConvLSTM(seq_length=12, input_dim=9, hidden_dims=[256,128,64],kernel_sizes = [(3,3),(3,3),(3,3)], num_layers=3, num_classes=2)\n",
    "print(model)"
   ]
  },
  {
   "cell_type": "code",
   "execution_count": 29,
   "id": "d119735c",
   "metadata": {
    "scrolled": false
   },
   "outputs": [
    {
     "name": "stdout",
     "output_type": "stream",
     "text": [
      "Batch Accuracy: 0.69\n",
      "Batch Accuracy: 0.50\n",
      "Batch Accuracy: 0.40\n",
      "Epoch 1/20, Train Loss: 0.6759, Train Acc: 0.53, Val Loss: 0.6889, Val Acc: 0.50\n",
      "Batch Accuracy: 0.62\n",
      "Batch Accuracy: 0.44\n",
      "Batch Accuracy: 0.80\n",
      "Epoch 2/20, Train Loss: 0.6563, Train Acc: 0.62, Val Loss: 0.6879, Val Acc: 0.50\n",
      "Batch Accuracy: 0.50\n",
      "Batch Accuracy: 0.56\n",
      "Batch Accuracy: 0.80\n",
      "Epoch 3/20, Train Loss: 0.6479, Train Acc: 0.62, Val Loss: 0.6880, Val Acc: 0.50\n",
      "Batch Accuracy: 0.62\n",
      "Batch Accuracy: 0.50\n",
      "Batch Accuracy: 0.60\n",
      "Epoch 4/20, Train Loss: 0.6624, Train Acc: 0.58, Val Loss: 0.6888, Val Acc: 0.50\n",
      "Batch Accuracy: 0.62\n",
      "Batch Accuracy: 0.69\n",
      "Batch Accuracy: 0.00\n",
      "Epoch 5/20, Train Loss: 0.7068, Train Acc: 0.44, Val Loss: 0.6891, Val Acc: 0.50\n",
      "Batch Accuracy: 0.44\n",
      "Batch Accuracy: 0.69\n",
      "Batch Accuracy: 0.60\n",
      "Epoch 6/20, Train Loss: 0.6607, Train Acc: 0.58, Val Loss: 0.6880, Val Acc: 0.50\n",
      "Batch Accuracy: 0.56\n",
      "Batch Accuracy: 0.69\n",
      "Batch Accuracy: 0.20\n",
      "Epoch 7/20, Train Loss: 0.6845, Train Acc: 0.48, Val Loss: 0.6870, Val Acc: 0.50\n",
      "Batch Accuracy: 0.62\n",
      "Batch Accuracy: 0.50\n",
      "Batch Accuracy: 0.60\n",
      "Epoch 8/20, Train Loss: 0.6619, Train Acc: 0.58, Val Loss: 0.6857, Val Acc: 0.50\n",
      "Batch Accuracy: 0.44\n",
      "Batch Accuracy: 0.62\n",
      "Batch Accuracy: 0.80\n",
      "Epoch 9/20, Train Loss: 0.6503, Train Acc: 0.62, Val Loss: 0.6849, Val Acc: 0.50\n",
      "Batch Accuracy: 0.62\n",
      "Batch Accuracy: 0.50\n",
      "Batch Accuracy: 0.60\n",
      "Epoch 10/20, Train Loss: 0.6544, Train Acc: 0.58, Val Loss: 0.6847, Val Acc: 0.50\n",
      "Batch Accuracy: 0.56\n",
      "Batch Accuracy: 0.62\n",
      "Batch Accuracy: 0.40\n",
      "Epoch 11/20, Train Loss: 0.6667, Train Acc: 0.53, Val Loss: 0.6844, Val Acc: 0.50\n",
      "Batch Accuracy: 0.62\n",
      "Batch Accuracy: 0.44\n",
      "Batch Accuracy: 0.80\n",
      "Epoch 12/20, Train Loss: 0.6317, Train Acc: 0.62, Val Loss: 0.6839, Val Acc: 0.50\n",
      "Batch Accuracy: 0.69\n",
      "Batch Accuracy: 0.56\n",
      "Batch Accuracy: 0.20\n",
      "Epoch 13/20, Train Loss: 0.6846, Train Acc: 0.48, Val Loss: 0.6836, Val Acc: 0.50\n",
      "Batch Accuracy: 0.56\n",
      "Batch Accuracy: 0.62\n",
      "Batch Accuracy: 0.40\n",
      "Epoch 14/20, Train Loss: 0.6891, Train Acc: 0.53, Val Loss: 0.6825, Val Acc: 0.50\n",
      "Batch Accuracy: 0.62\n",
      "Batch Accuracy: 0.56\n",
      "Batch Accuracy: 0.40\n",
      "Epoch 15/20, Train Loss: 0.6734, Train Acc: 0.53, Val Loss: 0.6813, Val Acc: 0.50\n",
      "Batch Accuracy: 0.44\n",
      "Batch Accuracy: 0.75\n",
      "Batch Accuracy: 0.40\n",
      "Epoch 16/20, Train Loss: 0.6723, Train Acc: 0.53, Val Loss: 0.6799, Val Acc: 0.50\n",
      "Batch Accuracy: 0.69\n",
      "Batch Accuracy: 0.38\n",
      "Batch Accuracy: 0.80\n",
      "Epoch 17/20, Train Loss: 0.6449, Train Acc: 0.62, Val Loss: 0.6790, Val Acc: 0.50\n",
      "Batch Accuracy: 0.56\n",
      "Batch Accuracy: 0.62\n",
      "Batch Accuracy: 0.60\n",
      "Epoch 18/20, Train Loss: 0.6621, Train Acc: 0.60, Val Loss: 0.6786, Val Acc: 0.50\n",
      "Batch Accuracy: 0.50\n",
      "Batch Accuracy: 0.69\n",
      "Batch Accuracy: 0.60\n",
      "Epoch 19/20, Train Loss: 0.6625, Train Acc: 0.60, Val Loss: 0.6782, Val Acc: 0.50\n",
      "Batch Accuracy: 0.62\n",
      "Batch Accuracy: 0.62\n",
      "Batch Accuracy: 0.40\n",
      "Epoch 20/20, Train Loss: 0.6505, Train Acc: 0.55, Val Loss: 0.6784, Val Acc: 0.62\n",
      "Final Training Accuracy: 0.55\n",
      "Final Validation Accuracy: 0.62\n"
     ]
    },
    {
     "data": {
      "image/png": "[encoded data removed]",
      "text/plain": [
       "<Figure size 1200x600 with 2 Axes>"
      ]
     },
     "metadata": {},
     "output_type": "display_data"
    }
   ],
   "source": [
    "import time\n",
    "import torch\n",
    "import torch.nn as nn\n",
    "import torch.optim as optim\n",
    "from torch.utils.data import DataLoader\n",
    "import matplotlib.pyplot as plt\n",
    "\n",
    "# Define loss function and optimizer\n",
    "criterion = nn.CrossEntropyLoss()\n",
    "optimizer = optim.Adam(model.parameters(), lr=0.00001)\n",
    "\n",
    "# Structures to log the metrics\n",
    "train_losses = []\n",
    "val_losses = []\n",
    "train_accuracies = []\n",
    "val_accuracies = []\n",
    "epoch_times = []\n",
    "\n",
    "def calculate_accuracy(output, target):\n",
    "    _, predicted = torch.max(output.data, 1)\n",
    "    total = target.size(0)\n",
    "    correct = (predicted == target).sum().item()\n",
    "    accuracy = correct / total\n",
    "    return accuracy\n",
    "\n",
    "def train_model(num_epochs):\n",
    "    for epoch in range(num_epochs):\n",
    "        epoch_start_time = time.time()\n",
    "\n",
    "        # Training Phase\n",
    "        model.train()\n",
    "        total_train_loss = 0\n",
    "        total_train_accuracy = 0\n",
    "        for data, labels in train_loader:\n",
    "            optimizer.zero_grad()\n",
    "            outputs = model(data)\n",
    "            labels = labels.view(-1)\n",
    "            loss = criterion(outputs, labels)\n",
    "            loss.backward()\n",
    "            optimizer.step()\n",
    "            \n",
    "            _, predicted = torch.max(outputs, 1)\n",
    "            correct = (predicted == labels).sum().item()\n",
    "            accuracy = correct / labels.size(0)\n",
    "            print(f\"Batch Accuracy: {accuracy:.2f}\")\n",
    "\n",
    "            total_train_loss += loss.item()\n",
    "            total_train_accuracy += calculate_accuracy(outputs, labels)\n",
    "\n",
    "        avg_train_loss = total_train_loss / len(train_loader)\n",
    "        avg_train_accuracy = total_train_accuracy / len(train_loader)\n",
    "        train_losses.append(avg_train_loss)\n",
    "        train_accuracies.append(avg_train_accuracy)\n",
    "\n",
    "        # Validation Phase\n",
    "        model.eval()\n",
    "        total_val_loss = 0\n",
    "        total_val_accuracy = 0\n",
    "        with torch.no_grad():\n",
    "            for data, labels in val_loader:\n",
    "                outputs = model(data)\n",
    "                loss = criterion(outputs, labels)\n",
    "                total_val_loss += loss.item()\n",
    "                total_val_accuracy += calculate_accuracy(outputs, labels)\n",
    "\n",
    "        avg_val_loss = total_val_loss / len(val_loader)\n",
    "        avg_val_accuracy = total_val_accuracy / len(val_loader)\n",
    "        val_losses.append(avg_val_loss)\n",
    "        val_accuracies.append(avg_val_accuracy)\n",
    "\n",
    "        epoch_end_time = time.time()\n",
    "        epoch_times.append(epoch_end_time - epoch_start_time)\n",
    "\n",
    "        print(f'Epoch {epoch+1}/{num_epochs}, Train Loss: {avg_train_loss:.4f}, Train Acc: {avg_train_accuracy:.2f}, Val Loss: {avg_val_loss:.4f}, Val Acc: {avg_val_accuracy:.2f}')\n",
    "\n",
    "    print(f'Final Training Accuracy: {train_accuracies[-1]:.2f}')\n",
    "    print(f'Final Validation Accuracy: {val_accuracies[-1]:.2f}')\n",
    "    return train_losses, train_accuracies, val_losses, val_accuracies, epoch_times\n",
    "\n",
    "# Call the training function with the number of epochs\n",
    "num_epochs = 20\n",
    "results = train_model(num_epochs)\n",
    "\n",
    "def plot_metrics(train_losses, train_accuracies, val_losses, val_accuracies):\n",
    "    epochs = range(1, len(train_losses) + 1)\n",
    "    plt.figure(figsize=(12, 6))\n",
    "\n",
    "    plt.subplot(1, 2, 1)\n",
    "    plt.plot(epochs, train_losses, 'r-', label='Training Loss')\n",
    "    plt.plot(epochs, val_losses, 'b-', label='Validation Loss')\n",
    "    plt.title('Training and Validation Loss')\n",
    "    plt.xlabel('Epochs')\n",
    "    plt.ylabel('Loss')\n",
    "    plt.legend()\n",
    "\n",
    "    plt.subplot(1, 2, 2)\n",
    "    plt.plot(epochs, train_accuracies, 'r-', label='Training Accuracy')\n",
    "    plt.plot(epochs, val_accuracies, 'b-', label='Validation Accuracy')\n",
    "    plt.title('Training and Validation Accuracy')\n",
    "    plt.xlabel('Epochs')\n",
    "    plt.ylabel('Accuracy')\n",
    "    plt.legend()\n",
    "\n",
    "    plt.show()\n",
    "\n",
    "# Plot the metrics\n",
    "plot_metrics(*results[0:4])"
   ]
  },
  {
   "cell_type": "code",
   "execution_count": 28,
   "id": "6c591dbf",
   "metadata": {},
   "outputs": [
    {
     "name": "stdout",
     "output_type": "stream",
     "text": [
      "Test Accuracy: 0.44\n"
     ]
    }
   ],
   "source": [
    "def evaluate_model(model, test_loader):\n",
    "    model.eval()  # Set the model to evaluation mode\n",
    "    correct = 0\n",
    "    total = 0\n",
    "    \n",
    "    with torch.no_grad():  # Disable gradient computation\n",
    "        for data in test_loader:\n",
    "            inputs, labels = data\n",
    "            outputs = model(inputs)\n",
    "            _, predicted = torch.max(outputs.data, 1)\n",
    "            total += labels.size(0)\n",
    "            correct += (predicted == labels).sum().item()\n",
    "    \n",
    "    accuracy = correct / total\n",
    "    print(f'Test Accuracy: {accuracy:.2f}')\n",
    "\n",
    "# Call the evaluation function with your model and test_loader\n",
    "evaluate_model(model, test_loader)"
   ]
  },
  {
   "cell_type": "code",
   "execution_count": 30,
   "id": "4bb02f06",
   "metadata": {},
   "outputs": [
    {
     "name": "stdout",
     "output_type": "stream",
     "text": [
      "Training predictions: (array([1], dtype=int64), array([37], dtype=int64))\n",
      "Validation predictions: (array([1], dtype=int64), array([8], dtype=int64))\n"
     ]
    }
   ],
   "source": [
    "def check_predictions(loader, model):\n",
    "    model.eval()\n",
    "    all_preds, all_labels = [], []\n",
    "    with torch.no_grad():\n",
    "        for data, labels in loader:\n",
    "            outputs = model(data)\n",
    "            _, preds = torch.max(outputs, 1)\n",
    "            all_preds.extend(preds.cpu().numpy())\n",
    "            all_labels.extend(labels.cpu().numpy())\n",
    "    return all_preds, all_labels\n",
    "\n",
    "train_preds, train_labels = check_predictions(train_loader, model)\n",
    "val_preds, val_labels = check_predictions(val_loader, model)\n",
    "\n",
    "print(\"Training predictions:\", np.unique(train_preds, return_counts=True))\n",
    "print(\"Validation predictions:\", np.unique(val_preds, return_counts=True))"
   ]
  },
  {
   "cell_type": "code",
   "execution_count": 29,
   "id": "6d5c8ba2",
   "metadata": {},
   "outputs": [
    {
     "name": "stdout",
     "output_type": "stream",
     "text": [
      "{0: 21, 1: 33}\n",
      "{0: 21, 1: 33}\n"
     ]
    }
   ],
   "source": [
    "unique, counts = np.unique(train_dataset.dataset.tensors[1], return_counts=True)\n",
    "print(dict(zip(unique, counts)))\n",
    "\n",
    "unique, counts = np.unique(val_dataset.dataset.tensors[1], return_counts=True)\n",
    "print(dict(zip(unique, counts)))"
   ]
  },
  {
   "cell_type": "code",
   "execution_count": null,
   "id": "d9fff612",
   "metadata": {},
   "outputs": [],
   "source": [
    "from sklearn.metrics import roc_curve, auc\n",
    "import matplotlib.pyplot as plt\n",
    "\n",
    "# Assuming 'model' and 'device' are defined\n",
    "model.eval()  # Set the model to evaluation mode\n",
    "\n",
    "device = torch.device(\"cpu\")\n",
    "model.to(device)\n",
    "\n",
    "def get_predictions_and_labels(model, loader):\n",
    "    all_probs = []\n",
    "    all_labels = []\n",
    "    with torch.no_grad():\n",
    "        for data in loader:\n",
    "            inputs, labels = data\n",
    "            inputs = inputs.to(device)  # Send input to the same device as model\n",
    "            outputs = model(inputs)\n",
    "            probabilities = torch.sigmoid(outputs)  # Apply sigmoid to get probabilities\n",
    "            all_probs.extend(probabilities[:, 0].cpu().numpy())  # Assuming class '1' is the positive class\n",
    "            all_labels.extend(labels.cpu().numpy())\n",
    "    return all_probs, all_labels\n",
    "\n",
    "# Get predictions and labels\n",
    "train_probs, train_labels = get_predictions_and_labels(model, train_loader)\n",
    "test_probs, test_labels = get_predictions_and_labels(model, test_loader)\n",
    "\n",
    "# Calculate ROC curve and AUC for training set\n",
    "fpr_train, tpr_train, _ = roc_curve(train_labels, train_probs)\n",
    "roc_auc_train = auc(fpr_train, tpr_train)\n",
    "\n",
    "# Calculate ROC curve and AUC for test set\n",
    "fpr_test, tpr_test, _ = roc_curve(test_labels, test_probs)\n",
    "roc_auc_test = auc(fpr_test, tpr_test)\n",
    "\n",
    "# Plot the ROC curves\n",
    "plt.figure(figsize=(8, 8))\n",
    "plt.plot(fpr_train, tpr_train, color='blue', lw=2, label='Train AUC = {:.2f}'.format(roc_auc_train))\n",
    "plt.plot(fpr_test, tpr_test, color='darkorange', lw=2, label='Test AUC = {:.2f}'.format(roc_auc_test))\n",
    "plt.plot([0, 1], [0, 1], color='navy', lw=2, linestyle='--')\n",
    "plt.xlabel('False Positive Rate')\n",
    "plt.ylabel('True Positive Rate')\n",
    "plt.title('Receiver Operating Characteristic (ROC) Curve')\n",
    "plt.legend(loc='lower right')\n",
    "plt.show()"
   ]
  },
  {
   "cell_type": "code",
   "execution_count": null,
   "id": "f6e8afeb",
   "metadata": {},
   "outputs": [],
   "source": [
    "unique, counts = np.unique(train_labels, return_counts=True)\n",
    "print(dict(zip(unique, counts)))\n",
    "\n",
    "unique, counts = np.unique(test_labels, return_counts=True)\n",
    "print(dict(zip(unique, counts)))"
   ]
  },
  {
   "cell_type": "code",
   "execution_count": null,
   "id": "7ff4bc8e",
   "metadata": {},
   "outputs": [],
   "source": []
  }
 ],
 "metadata": {
  "kernelspec": {
   "display_name": "Python 3 (ipykernel)",
   "language": "python",
   "name": "python3"
  },
  "language_info": {
   "codemirror_mode": {
    "name": "ipython",
    "version": 3
   },
   "file_extension": ".py",
   "mimetype": "text/x-python",
   "name": "python",
   "nbconvert_exporter": "python",
   "pygments_lexer": "ipython3",
   "version": "3.11.5"
  }
 },
 "nbformat": 4,
 "nbformat_minor": 5
}
