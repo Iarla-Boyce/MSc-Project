{
 "cells": [
  {
   "cell_type": "code",
   "execution_count": 2,
   "id": "e87d455f",
   "metadata": {},
   "outputs": [],
   "source": [
    "import xarray as xr\n",
    "import pandas as pd\n",
    "data_temp = xr.open_mfdataset(r\"C:\\Users\\iarla\\OneDrive\\Documents\\MSc_Project\\HadUK_data\\12km_Month_Temp\\*.nc\", parallel=True)\n",
    "data_tmax = xr.open_mfdataset(r\"C:\\Users\\iarla\\OneDrive\\Documents\\MSc_Project\\HadUK_data\\12km_Month_tmax\\*.nc\", parallel=True)\n",
    "data_tmin = xr.open_mfdataset(r\"C:\\Users\\iarla\\OneDrive\\Documents\\MSc_Project\\HadUK_data\\12km_Month_tmin\\*.nc\", parallel=True)\n",
    "data_rain = xr.open_mfdataset(r\"C:\\Users\\iarla\\OneDrive\\Documents\\MSc_Project\\HadUK_data\\12km_Month_Rain\\*.nc\", parallel=True)\n",
    "data_hurs = xr.open_mfdataset(r\"C:\\Users\\iarla\\OneDrive\\Documents\\MSc_Project\\HadUK_data\\12km_Month_Humidity\\*.nc\", parallel=True)\n",
    "data_sun = xr.open_mfdataset(r\"C:\\Users\\iarla\\OneDrive\\Documents\\MSc_Project\\HadUK_data\\12km_Month_Sun\\*.nc\", parallel=True)\n",
    "data_frost = xr.open_mfdataset(r\"C:\\Users\\iarla\\OneDrive\\Documents\\MSc_Project\\HadUK_data\\12km_Month_Frost\\*.nc\", parallel=True)\n",
    "data_psl = xr.open_mfdataset(r\"C:\\Users\\iarla\\OneDrive\\Documents\\MSc_Project\\HadUK_data\\12km_Month_psl\\*.nc\", parallel=True)\n",
    "data_wind = xr.open_mfdataset(r\"C:\\Users\\iarla\\OneDrive\\Documents\\MSc_Project\\HadUK_data\\12km_Month_Wind\\*.nc\", parallel=True)"
   ]
  },
  {
   "cell_type": "code",
   "execution_count": 3,
   "id": "dd36649a",
   "metadata": {},
   "outputs": [],
   "source": [
    "import numpy as np\n",
    "\n",
    "rain = np.array(data_rain['rainfall'])\n",
    "hurs = np.array(data_hurs['hurs'])\n",
    "temp = np.array(data_temp['tas'])\n",
    "temp_max = np.array(data_tmax['tasmax'])\n",
    "temp_min = np.array(data_tmin['tasmin'])\n",
    "sun = np.array(data_sun['sun'])\n",
    "frost = np.array(data_frost['groundfrost'])\n",
    "psl = np.array(data_psl['psl'])\n",
    "wind = np.array(data_wind['sfcWind'])\n",
    "\n",
    "min_length = len(wind)\n",
    "rain = rain[:min_length]\n",
    "hurs = hurs[:min_length]\n",
    "temp = temp[:min_length]\n",
    "temp_max = temp_max[:min_length]\n",
    "temp_min = temp_min[:min_length]\n",
    "sun = sun[:min_length]\n",
    "frost = frost[:min_length]\n",
    "wind = wind[:min_length]\n",
    "psl = psl[:min_length]"
   ]
  },
  {
   "cell_type": "code",
   "execution_count": 4,
   "id": "615be160",
   "metadata": {},
   "outputs": [
    {
     "name": "stdout",
     "output_type": "stream",
     "text": [
      "(648, 112, 82)\n",
      "(648, 112, 82)\n"
     ]
    }
   ],
   "source": [
    "import torch \n",
    "\n",
    "land_mask = ~np.isnan(temp)\n",
    "land_mask_torch = torch.from_numpy(land_mask.astype(bool)) \n",
    "\n",
    "print(temp.shape)\n",
    "print(land_mask.shape)"
   ]
  },
  {
   "cell_type": "code",
   "execution_count": 5,
   "id": "3a018ebe",
   "metadata": {},
   "outputs": [],
   "source": [
    "from skimage import measure\n",
    "\n",
    "# Connected components labeling\n",
    "labels = measure.label(land_mask)\n",
    "biggest_component_label = np.argmax(np.bincount(labels.flat)[1:]) + 1  \n",
    "\n",
    "# Isolate the biggest component\n",
    "main_landmass_mask = (labels == biggest_component_label) \n",
    "\n",
    "# Get indices for bounding box\n",
    "nonzero_indices = main_landmass_mask.nonzero()\n",
    "min_row = np.min(nonzero_indices[1])\n",
    "max_row = np.max(nonzero_indices[1])\n",
    "min_col = np.min(nonzero_indices[2])\n",
    "max_col = np.max(nonzero_indices[2])"
   ]
  },
  {
   "cell_type": "code",
   "execution_count": 6,
   "id": "7175abb0",
   "metadata": {},
   "outputs": [
    {
     "name": "stdout",
     "output_type": "stream",
     "text": [
      "10\n",
      "89\n",
      "28\n",
      "72\n"
     ]
    }
   ],
   "source": [
    "print(min_row)\n",
    "print(max_row)\n",
    "print(min_col)\n",
    "print(max_col)"
   ]
  },
  {
   "cell_type": "code",
   "execution_count": 7,
   "id": "74f1cb42",
   "metadata": {},
   "outputs": [],
   "source": [
    "rain = rain[:, min_row:max_row + 1, min_col:max_col + 1]\n",
    "hurs = hurs[:, min_row:max_row + 1, min_col:max_col + 1]\n",
    "temp = temp[:, min_row:max_row + 1, min_col:max_col + 1]\n",
    "temp_max = temp_max[:, min_row:max_row + 1, min_col:max_col + 1]\n",
    "temp_min = temp_min[:, min_row:max_row + 1, min_col:max_col + 1]\n",
    "sun = sun[:, min_row:max_row + 1, min_col:max_col + 1] \n",
    "frost = frost[:, min_row:max_row + 1, min_col:max_col + 1] \n",
    "psl = psl[:, min_row:max_row + 1, min_col:max_col + 1] \n",
    "wind = wind[:, min_row:max_row + 1, min_col:max_col + 1] \n",
    "land_mask = land_mask[:, min_row:max_row + 1, min_col:max_col + 1]"
   ]
  },
  {
   "cell_type": "code",
   "execution_count": 8,
   "id": "4189adf6",
   "metadata": {},
   "outputs": [
    {
     "data": {
      "text/plain": [
       "(648, 80, 45)"
      ]
     },
     "execution_count": 8,
     "metadata": {},
     "output_type": "execute_result"
    }
   ],
   "source": [
    "rain.shape"
   ]
  },
  {
   "cell_type": "code",
   "execution_count": 9,
   "id": "4b2ba687",
   "metadata": {},
   "outputs": [
    {
     "name": "stdout",
     "output_type": "stream",
     "text": [
      "(array([  0,   0,   0, ..., 647, 647, 647], dtype=int64), array([ 0,  0,  0, ..., 79, 79, 79], dtype=int64), array([ 0,  1,  2, ..., 42, 43, 44], dtype=int64))\n"
     ]
    }
   ],
   "source": [
    "nan_indices = np.where(np.isnan(rain))\n",
    "print(nan_indices)  # Prints arrays of indices (time, row, col) where NaNs exist"
   ]
  },
  {
   "cell_type": "code",
   "execution_count": 10,
   "id": "40fb5d63",
   "metadata": {},
   "outputs": [],
   "source": [
    "nan_counts = np.count_nonzero(np.isnan(rain), axis=0)  # Counts across time\n",
    "\n",
    "valid_grid_cell_mask = nan_counts == 0\n",
    "valid_cell_indices = np.where(valid_grid_cell_mask)"
   ]
  },
  {
   "cell_type": "code",
   "execution_count": 11,
   "id": "17855e50",
   "metadata": {},
   "outputs": [
    {
     "data": {
      "text/plain": [
       "(array([ 0,  1,  1, ..., 79, 79, 79], dtype=int64),\n",
       " array([ 4,  2,  3, ..., 15, 16, 17], dtype=int64))"
      ]
     },
     "execution_count": 11,
     "metadata": {},
     "output_type": "execute_result"
    }
   ],
   "source": [
    "valid_cell_indices"
   ]
  },
  {
   "cell_type": "code",
   "execution_count": 12,
   "id": "983cb6d5",
   "metadata": {},
   "outputs": [
    {
     "name": "stdout",
     "output_type": "stream",
     "text": [
      "Unique row indices: [ 0  1  2  3  4  5  6  7  8  9 10 11 12 13 14 15 16 17 18 19 20 21 22 23\n",
      " 24 25 26 27 28 29 30 31 32 33 34 35 36 37 38 39 40 41 42 43 44 45 46 47\n",
      " 48 49 50 51 52 53 54 55 56 57 58 59 60 61 62 63 64 65 66 67 68 69 70 71\n",
      " 72 73 74 75 76 77 78 79]\n",
      "Number of unique row indices: 80\n",
      "Counts of each unique row index: [ 1  3  4  8 10 10 16 22 31 33 32 27 25 24 25 31 35 37 37 35 35 33 33 33\n",
      " 33 32 33 30 26 26 25 21 18 17 17 16 15 15 17 19 22 20 18 15 17 23 21 21\n",
      " 20 17 18 18 18 17 19 15 13 15 14 16 17 19 19 18 18 20 18 21 21 23 20 10\n",
      " 10  8  8 11 12 12 12  7]\n",
      "\n",
      "Unique column indices: [ 0  1  2  3  4  5  6  7  8  9 10 11 12 13 14 15 16 17 18 19 20 21 22 23\n",
      " 24 25 26 27 28 29 30 31 32 33 34 35 36 37 38 39 40 41 42 43 44]\n",
      "Number of unique column indices: 45\n",
      "Counts of each unique column index: [17 21 18 13 18 26 29 32 41 54 53 56 60 57 55 57 59 57 61 62 60 57 55 51\n",
      " 45 44 39 36 35 34 35 33 31 28 27 23 19 19 20 17 15 14 10  7  1]\n"
     ]
    }
   ],
   "source": [
    "# Your arrays from the previous output:\n",
    "row_indices = valid_cell_indices[0]\n",
    "col_indices = valid_cell_indices[1]\n",
    "\n",
    "unique_rows, row_counts = np.unique(row_indices, return_counts=True)\n",
    "unique_cols, col_counts = np.unique(col_indices, return_counts=True)\n",
    "\n",
    "print(\"Unique row indices:\", unique_rows)\n",
    "print(\"Number of unique row indices:\", len(unique_rows))\n",
    "print(\"Counts of each unique row index:\", row_counts)\n",
    "\n",
    "print(\"\\nUnique column indices:\", unique_cols)\n",
    "print(\"Number of unique column indices:\", len(unique_cols))\n",
    "print(\"Counts of each unique column index:\", col_counts)"
   ]
  },
  {
   "cell_type": "code",
   "execution_count": 13,
   "id": "a3af412b",
   "metadata": {},
   "outputs": [
    {
     "name": "stdout",
     "output_type": "stream",
     "text": [
      "(array([  0,   0,   0, ..., 647, 647, 647], dtype=int64), array([ 0,  0,  0, ..., 79, 79, 79], dtype=int64), array([ 0,  1,  2, ..., 42, 43, 44], dtype=int64))\n"
     ]
    }
   ],
   "source": [
    "nan_indices = np.where(np.isnan(temp))\n",
    "print(nan_indices)"
   ]
  },
  {
   "cell_type": "code",
   "execution_count": 14,
   "id": "2b68cda7",
   "metadata": {},
   "outputs": [
    {
     "data": {
      "image/png": "[encoded data removed]",
      "text/plain": [
       "<Figure size 1000x600 with 1 Axes>"
      ]
     },
     "metadata": {},
     "output_type": "display_data"
    }
   ],
   "source": [
    "import matplotlib.pyplot as plt\n",
    "\n",
    "valid_row_indices = valid_cell_indices[0]  # Extract row indices\n",
    "valid_col_indices = valid_cell_indices[1]  # Extract column indices\n",
    "\n",
    "time_step = 183\n",
    "\n",
    "original_rain_slice = rain[time_step, :, :]  \n",
    "original_temp_slice = temp[time_step, :, :]\n",
    "\n",
    "# Visualization\n",
    "plt.figure(figsize=(10, 6)) \n",
    "plt.imshow(original_rain_slice, cmap='viridis')  # Faint background\n",
    "plt.imshow(original_temp_slice, cmap='gray')  \n",
    "plt.xlabel('Column Index')\n",
    "plt.ylabel('Row Index')\n",
    "plt.title('Valid Rain Cells (Time Step {})'.format(time_step))\n",
    "plt.show()"
   ]
  },
  {
   "cell_type": "code",
   "execution_count": 15,
   "id": "4ef14560",
   "metadata": {},
   "outputs": [],
   "source": [
    "valid_row_indices = valid_cell_indices[0]  # Extract row indices\n",
    "valid_col_indices = valid_cell_indices[1]  # Extract column indices\n",
    "\n",
    "valid_rain_data = rain[:, valid_row_indices, valid_col_indices]"
   ]
  },
  {
   "cell_type": "code",
   "execution_count": 16,
   "id": "6748fae2",
   "metadata": {},
   "outputs": [
    {
     "data": {
      "text/plain": [
       "(648, 1601)"
      ]
     },
     "execution_count": 16,
     "metadata": {},
     "output_type": "execute_result"
    }
   ],
   "source": [
    "valid_rain_data.shape"
   ]
  },
  {
   "cell_type": "code",
   "execution_count": 17,
   "id": "f970ee05",
   "metadata": {},
   "outputs": [
    {
     "name": "stdout",
     "output_type": "stream",
     "text": [
      "False\n"
     ]
    }
   ],
   "source": [
    "has_nan = np.isnan(valid_rain_data).any()\n",
    "print(has_nan)"
   ]
  },
  {
   "cell_type": "code",
   "execution_count": 18,
   "id": "2ceb9c75",
   "metadata": {},
   "outputs": [],
   "source": [
    "valid_temp_data = temp[:, valid_row_indices, valid_col_indices]\n",
    "valid_wind_data = wind[:, valid_row_indices, valid_col_indices]\n",
    "valid_hurs_data = hurs[:, valid_row_indices, valid_col_indices]\n",
    "valid_psl_data = psl[:, valid_row_indices, valid_col_indices]\n",
    "valid_frost_data = frost[:, valid_row_indices, valid_col_indices]\n",
    "valid_sun_data = sun[:, valid_row_indices, valid_col_indices]\n",
    "valid_tmax_data = temp_max[:, valid_row_indices, valid_col_indices]\n",
    "valid_tmin_data = temp_min[:, valid_row_indices, valid_col_indices]"
   ]
  },
  {
   "cell_type": "code",
   "execution_count": 19,
   "id": "9bfb93cc",
   "metadata": {},
   "outputs": [
    {
     "name": "stdout",
     "output_type": "stream",
     "text": [
      "True\n"
     ]
    }
   ],
   "source": [
    "has_nan = np.isnan(valid_temp_data).any()\n",
    "print(has_nan)"
   ]
  },
  {
   "cell_type": "code",
   "execution_count": 20,
   "id": "eb5b3e77",
   "metadata": {},
   "outputs": [
    {
     "data": {
      "text/plain": [
       "(648, 1601)"
      ]
     },
     "execution_count": 20,
     "metadata": {},
     "output_type": "execute_result"
    }
   ],
   "source": [
    "valid_frost_data.shape"
   ]
  },
  {
   "cell_type": "code",
   "execution_count": 21,
   "id": "5d636afd",
   "metadata": {},
   "outputs": [],
   "source": [
    "from sklearn.preprocessing import MinMaxScaler\n",
    "\n",
    "scaler = MinMaxScaler()\n",
    "\n",
    "# List of variables to normalize\n",
    "variables = [\n",
    "    valid_rain_data, valid_temp_data, valid_wind_data, \n",
    "    valid_hurs_data, valid_psl_data, valid_sun_data,\n",
    "    valid_frost_data, valid_tmax_data, valid_tmin_data\n",
    "] \n",
    "\n",
    "# Normalize each variable in-place\n",
    "for data in variables:\n",
    "    # Fit on assumed training data (replace with your actual training set)\n",
    "    scaler.fit(data)  \n",
    "\n",
    "    # Transform and overwrite the existing variable\n",
    "    data[:] = scaler.transform(data) "
   ]
  },
  {
   "cell_type": "code",
   "execution_count": 22,
   "id": "9f93c459",
   "metadata": {},
   "outputs": [],
   "source": [
    "valid_rain_data = valid_rain_data[:,:1600].reshape(648, 64, 25)\n",
    "valid_temp_data = valid_temp_data[:,:1600].reshape(648, 64, 25)\n",
    "valid_wind_data = valid_wind_data[:,:1600].reshape(648, 64, 25)\n",
    "valid_hurs_data = valid_hurs_data[:,:1600].reshape(648, 64, 25)\n",
    "valid_psl_data = valid_psl_data[:,:1600].reshape(648, 64, 25)\n",
    "valid_sun_data = valid_sun_data[:,:1600].reshape(648, 64, 25)\n",
    "valid_frost_data = valid_frost_data[:,:1600].reshape(648, 64, 25)\n",
    "valid_tmax_data = valid_tmax_data[:,:1600].reshape(648, 64, 25)\n",
    "valid_tmin_data = valid_tmin_data[:,:1600].reshape(648, 64, 25)"
   ]
  },
  {
   "cell_type": "code",
   "execution_count": 23,
   "id": "0f3427a9",
   "metadata": {},
   "outputs": [
    {
     "name": "stdout",
     "output_type": "stream",
     "text": [
      "False\n",
      "True\n",
      "True\n",
      "False\n",
      "False\n",
      "False\n",
      "False\n",
      "True\n",
      "True\n"
     ]
    }
   ],
   "source": [
    "data_list = [valid_rain_data, valid_temp_data, valid_wind_data, valid_hurs_data, valid_psl_data, valid_sun_data, valid_frost_data, valid_tmax_data, valid_tmin_data]\n",
    "\n",
    "for data in data_list:\n",
    "    print(np.isnan(data).any())"
   ]
  },
  {
   "cell_type": "code",
   "execution_count": 24,
   "id": "63c1cd70",
   "metadata": {},
   "outputs": [
    {
     "name": "stdout",
     "output_type": "stream",
     "text": [
      "(array([183, 183, 184, 184, 185, 185, 186, 186, 187, 187, 188, 188, 189,\n",
      "       189, 190, 190, 191, 191, 192, 193, 194, 195, 196, 197, 198, 199,\n",
      "       200, 201, 202, 203, 204, 205, 206, 207, 208, 209, 210, 211, 212,\n",
      "       213, 214, 215, 216, 217, 218, 219, 220, 221, 222, 223, 224, 225,\n",
      "       226, 227, 228, 229, 230, 231, 232, 233, 234, 235, 236, 237, 238,\n",
      "       239, 240, 241, 242, 243, 244, 245, 246, 247, 248, 249, 250, 251,\n",
      "       252, 253, 254, 255, 256, 257, 258, 259, 260, 261, 262, 263, 264,\n",
      "       265, 266, 267, 268, 269, 270, 271, 272, 273, 274, 275, 276, 277,\n",
      "       278, 279, 280, 281, 432, 432, 432, 432, 432, 433, 433, 433, 433,\n",
      "       433, 434, 434, 434, 434, 434], dtype=int64), array([47, 48, 47, 48, 47, 48, 47, 48, 47, 48, 47, 48, 47, 48, 47, 48, 47,\n",
      "       48, 47, 47, 47, 47, 47, 47, 47, 47, 47, 47, 47, 47, 47, 47, 47, 47,\n",
      "       47, 47, 47, 47, 47, 47, 47, 47, 47, 47, 47, 47, 47, 47, 47, 47, 47,\n",
      "       47, 47, 47, 47, 47, 47, 47, 47, 47, 47, 47, 47, 47, 47, 47, 47, 47,\n",
      "       47, 47, 47, 47, 47, 47, 47, 47, 47, 47, 47, 47, 47, 47, 47, 47, 47,\n",
      "       47, 47, 47, 47, 47, 47, 47, 47, 47, 47, 47, 47, 47, 47, 47, 47, 47,\n",
      "       47, 47, 47, 47, 47, 47, 62, 62, 62, 63, 63, 62, 62, 62, 63, 63, 62,\n",
      "       62, 62, 63, 63], dtype=int64), array([13,  5, 13,  5, 13,  5, 13,  5, 13,  5, 13,  5, 13,  5, 13,  5, 13,\n",
      "        5, 13, 13, 13, 13, 13, 13, 13, 13, 13, 13, 13, 13, 13, 13, 13, 13,\n",
      "       13, 13, 13, 13, 13, 13, 13, 13, 13, 13, 13, 13, 13, 13, 13, 13, 13,\n",
      "       13, 13, 13, 13, 13, 13, 13, 13, 13, 13, 13, 13, 13, 13, 13, 13, 13,\n",
      "       13, 13, 13, 13, 13, 13, 13, 13, 13, 13, 13, 13, 13, 13, 13, 13, 13,\n",
      "       13, 13, 13, 13, 13, 13, 13, 13, 13, 13, 13, 13, 13, 13, 13, 13, 13,\n",
      "       13, 13, 13, 13, 13, 13,  8, 20, 21,  7,  8,  8, 20, 21,  7,  8,  8,\n",
      "       20, 21,  7,  8], dtype=int64))\n"
     ]
    }
   ],
   "source": [
    "nan_indices = np.where(np.isnan(valid_temp_data))\n",
    "print(nan_indices)"
   ]
  },
  {
   "cell_type": "code",
   "execution_count": 25,
   "id": "c8aa779e",
   "metadata": {
    "scrolled": false
   },
   "outputs": [
    {
     "name": "stdout",
     "output_type": "stream",
     "text": [
      "[0.35938575 0.27749489 0.36212467 0.44757497 0.57202964 0.74117188\n",
      " 0.90298382 0.90063293 0.81695007 0.59898125 0.36254269 0.30144754\n",
      " 0.22755749 0.2570674  0.27963128 0.40873434 0.47362899 0.68468858\n",
      " 0.84588614 0.80675489 0.6893773  0.45438275 0.36361327 0.32771914\n",
      " 0.15593678 0.16370686 0.23178141 0.39756352 0.499075   0.69623834\n",
      " 0.88868144 0.8249822  0.74559394 0.66108209 0.45776399 0.20273839\n",
      " 0.25835225 0.29850122 0.35282292 0.39826746 0.63132454 0.86720579\n",
      " 0.90584875 0.82307573 0.72313311 0.48399981 0.31725686 0.26178411\n",
      " 0.31434027 0.1744296  0.18857909 0.38073648 0.57973526 0.73297512\n",
      " 0.77140013 0.79902672 0.72866841 0.59263218 0.43246725 0.37919875\n",
      " 0.31976188 0.22985651 0.33649403 0.3937734  0.71198284 0.82995591\n",
      " 0.8608927  0.82158623 0.7747242  0.55896385 0.48723828 0.37898101\n",
      " 0.38718575 0.21271894 0.37605224 0.45076761 0.68901388 0.73363458\n",
      " 0.8133263  0.84297304 0.86232021 0.64231169 0.39782603 0.20427126\n",
      " 0.26646895 0.37130047 0.25017221 0.35215766 0.55016429 0.84209426\n",
      " 0.87575804 0.84090516 0.82767532 0.60935653 0.36800727 0.4095664\n",
      " 0.21402647 0.23250761 0.20028106 0.42603966 0.60740227 0.70391904\n",
      " 0.81293806 0.82260804 0.69000408 0.44994932 0.42152424 0.23158676\n",
      " 0.21363497 0.26476728 0.3994396  0.55049585 0.71164732 0.85051928\n",
      " 0.90494175 0.94304423 0.7763432  0.60486364 0.31620343 0.38231621\n",
      " 0.2479645  0.29222623 0.41980014 0.53717499 0.50623123 0.74551663\n",
      " 0.91069823 0.81607769 0.71217459 0.52887665 0.50475551 0.40218914\n",
      " 0.05191511 0.         0.33864393 0.44099232 0.71925213 0.84084808\n",
      " 0.85185886 0.88597868 0.90283882 0.47367465 0.40806717 0.28351827\n",
      " 0.34719598 0.3743894  0.36666534 0.50961284 0.72933944 0.85503595\n",
      " 0.85397805 0.83065096 0.77607361 0.42361168 0.39755957 0.25422166\n",
      " 0.15732124 0.30817293 0.33761509 0.36782968 0.58374038 0.74168811\n",
      " 0.90106685 0.91186142 0.71049938 0.63225931 0.51157147 0.35504361\n",
      " 0.4610254  0.27674724 0.34712721 0.51215498 0.68858452 0.76795243\n",
      " 0.84453759 0.88512424 0.8681899  0.67421986 0.42035385 0.50173986\n",
      " 0.26229998 0.27035354 0.35914892        nan        nan        nan\n",
      "        nan        nan        nan        nan        nan        nan\n",
      "        nan        nan        nan        nan        nan        nan\n",
      "        nan        nan        nan        nan        nan        nan\n",
      "        nan        nan        nan        nan        nan        nan\n",
      "        nan        nan        nan        nan        nan        nan\n",
      "        nan        nan        nan        nan        nan        nan\n",
      "        nan        nan        nan        nan        nan        nan\n",
      "        nan        nan        nan        nan        nan        nan\n",
      "        nan        nan        nan        nan        nan        nan\n",
      "        nan        nan        nan        nan        nan        nan\n",
      "        nan        nan        nan        nan        nan        nan\n",
      "        nan        nan        nan        nan        nan        nan\n",
      "        nan        nan        nan        nan        nan        nan\n",
      "        nan        nan        nan        nan        nan        nan\n",
      "        nan        nan        nan        nan        nan        nan\n",
      "        nan        nan        nan        nan        nan        nan\n",
      " 0.8678286  0.76224539 0.80175408 0.56941782 0.37913211 0.32432461\n",
      " 0.29028872 0.33807487 0.29285009 0.36958745 0.70853496 0.81059331\n",
      " 0.90355831 0.85425179 0.78036148 0.80175339 0.53499904 0.36692293\n",
      " 0.3450839  0.30499107 0.26461474 0.47239385 0.61880089 0.72054977\n",
      " 0.81446025 0.85425438 0.7488019  0.60559592 0.32297791 0.24477699\n",
      " 0.25350052 0.26551166 0.41341761 0.38335234 0.66122778 0.83267355\n",
      " 0.89276441 0.88761074 0.80418373 0.7058954  0.24620446 0.4164265\n",
      " 0.35395665 0.31347754 0.37520862 0.44557232 0.73721295 0.79707656\n",
      " 0.92404713 1.         0.77492858 0.59359298 0.40849648 0.40271266\n",
      " 0.25724755 0.28438705 0.42467483 0.54259679 0.64690395 0.78007568\n",
      " 0.88270206 0.74876048 0.71513935 0.56197568 0.42986248 0.41175235\n",
      " 0.29789408 0.31201155 0.34952747 0.45096072 0.61231321 0.75581512\n",
      " 0.84435433 0.84053001 0.79883153 0.65824488 0.50781844 0.37254661\n",
      " 0.28968601 0.3609718  0.33267102 0.54570246 0.5634902  0.78951665\n",
      " 0.87406454 0.90310013 0.78595022 0.64989505 0.44279714 0.28292944\n",
      " 0.25707962 0.2437763  0.3336839  0.4617957  0.59272074 0.8045285\n",
      " 0.8453682  0.8794794  0.80090451 0.61252648 0.29092205 0.29553251\n",
      " 0.45080336 0.22900455 0.24667081 0.45893598 0.58374944 0.68323678\n",
      " 0.87421529 0.956898   0.78680078 0.64288301 0.48284769 0.28915381\n",
      " 0.20114832 0.23441857 0.24709333 0.30808028 0.63074335 0.76381632\n",
      " 0.92519965 0.94835264 0.82206655 0.47109235 0.50872653 0.26487932\n",
      " 0.25329181 0.40392549 0.36914485 0.43750297 0.68000904 0.72509719\n",
      " 0.84979545 0.90184393 0.64629612 0.58667365 0.42135696 0.43308903\n",
      " 0.28116578 0.19417203 0.23088013 0.42488143 0.74728543 0.69935088\n",
      " 0.80330222 0.82645572 0.72424112 0.58237958 0.22950093 0.33930508\n",
      " 0.29337441 0.35964612 0.37753307 0.41399266 0.6092165  0.8155631\n",
      " 0.78499893 0.78003397 0.7837618  0.72215854 0.54273289 0.3448987\n",
      " 0.41887407 0.35009684 0.39594399 0.49452404 0.58251009 0.77762575\n",
      " 0.94784985 0.81899423 0.81497557 0.76709098 0.44894506 0.48908022\n",
      " 0.31273423 0.32263662 0.39202168 0.31958665 0.61238408 0.69337551\n",
      " 0.76718629 0.77076179 0.73292212 0.58773354 0.46381487 0.42862612\n",
      " 0.4282606  0.31994713 0.44221565 0.42867056 0.50670543 0.67224515\n",
      " 0.90477629 0.82439892 0.70990385 0.61858648 0.28955064 0.32984424\n",
      " 0.35657213 0.29567633 0.30226332 0.39598536 0.57653073 0.73054133\n",
      " 0.85590909 0.83178234 0.74890057 0.62991097 0.53605811 0.4971555\n",
      " 0.40689398 0.27875376 0.37031501 0.41341236 0.60636303 0.81060794\n",
      " 0.93605181 0.89097096 0.71106898 0.66589012 0.384704   0.26464955\n",
      " 0.37396085 0.37720506 0.42587298 0.56063669 0.58693458 0.77535604\n",
      " 0.95349609 0.89788817 0.82179829 0.4959266  0.40887899 0.38503459\n",
      " 0.35896634 0.34777291 0.43702266 0.42597044 0.6051693  0.63391609\n",
      " 0.92789875 0.91256652 0.74156323 0.67220526 0.43802444 0.2533636\n",
      " 0.37114602 0.37183591 0.36807885 0.47657907 0.68164215 0.68339533\n",
      " 0.80476209 0.87319166 0.743002   0.65255062 0.49393333 0.35623075\n",
      " 0.19827412 0.17696412 0.44178437 0.42877729 0.63163541 0.73417034\n",
      " 0.87454429 0.83673606 0.86610308 0.59863164 0.45140367 0.37962057\n",
      " 0.31890301 0.16644105 0.3242595  0.49837669 0.63040352 0.77892644\n",
      " 0.8789631  0.85571486 0.8012015  0.64554617 0.39191156 0.35813885\n",
      " 0.29317746 0.26548927 0.30077815 0.44141222 0.63478238 0.71716275\n",
      " 0.85460742 0.85968572 0.71890855 0.60418669 0.50247794 0.47723458\n",
      " 0.44075409 0.31425209 0.36451119 0.39009867 0.62277307 0.84219055\n",
      " 0.89108971 0.88906783 0.73853327 0.55965498 0.44101137 0.40345326\n",
      " 0.26221674 0.28969448 0.44952238 0.52972736 0.64822487 0.85423491\n",
      " 0.9648009  0.91675747 0.87354285 0.65916828 0.410372   0.31069352\n",
      " 0.39309354 0.37906212 0.32404732 0.42896855 0.58698668 0.8190528\n",
      " 0.98567685 0.85600828 0.80481684 0.61070728 0.43028718 0.49773357\n",
      " 0.35413239 0.32269146 0.44807281 0.45191921 0.64642607 0.78789565\n",
      " 0.89897648 0.9036617  0.79125695 0.60274708 0.4064533  0.23698865\n",
      " 0.23593272 0.21508863 0.42176048 0.40014761 0.64287233 0.79723096\n",
      " 0.86287411 0.89927697 0.83943039 0.64300635 0.39670118 0.38510748\n",
      " 0.38319076 0.28698591 0.23290512 0.49906807 0.64734279 0.74528753\n",
      " 0.85231883 0.88581713 0.77305501 0.61230498 0.4175423  0.22633561]\n"
     ]
    }
   ],
   "source": [
    "print(valid_temp_data[:,47,13])"
   ]
  },
  {
   "cell_type": "code",
   "execution_count": 26,
   "id": "b3a3d88b",
   "metadata": {},
   "outputs": [
    {
     "data": {
      "image/png": "[encoded data removed]",
      "text/plain": [
       "<Figure size 800x600 with 1 Axes>"
      ]
     },
     "metadata": {},
     "output_type": "display_data"
    }
   ],
   "source": [
    "import matplotlib.pyplot as plt\n",
    "plt.figure(figsize=(8,6))\n",
    "plt.imshow(valid_rain_data[183,:,:], cmap='viridis')  # Sample timestep\n",
    "plt.imshow(valid_temp_data[183,:,:], cmap='gray')\n",
    "plt.show()"
   ]
  },
  {
   "cell_type": "code",
   "execution_count": 27,
   "id": "e3195823",
   "metadata": {},
   "outputs": [
    {
     "data": {
      "image/png": "[encoded data removed]",
      "text/plain": [
       "<Figure size 800x600 with 2 Axes>"
      ]
     },
     "metadata": {},
     "output_type": "display_data"
    }
   ],
   "source": [
    "import matplotlib.pyplot as plt\n",
    "\n",
    "def visualize_reshaped_slice(data, time_index, title):\n",
    "    plt.figure(figsize=(8, 6))\n",
    "    plt.imshow(data[time_index]) \n",
    "    plt.colorbar()\n",
    "    plt.title(title)\n",
    "    plt.show()\n",
    "\n",
    "# Example using valid_rain_data\n",
    "time_step = 0  # Choose a time step\n",
    "visualize_reshaped_slice(valid_rain_data, time_step, 'Rain Data (Time Step {})'.format(time_step))\n"
   ]
  },
  {
   "cell_type": "code",
   "execution_count": 29,
   "id": "7559b227",
   "metadata": {},
   "outputs": [
    {
     "name": "stdout",
     "output_type": "stream",
     "text": [
      "Number of NaN values in Temp: 123\n",
      "Number of NaN values in Tmax: 108\n",
      "Number of NaN values in Tmin: 123\n",
      "Number of NaN values in Wind: 167\n"
     ]
    }
   ],
   "source": [
    "nan_count_temp = np.isnan(valid_temp_data).sum()\n",
    "nan_count_tmax = np.isnan(valid_tmax_data).sum()\n",
    "nan_count_tmin = np.isnan(valid_tmin_data).sum()\n",
    "nan_count_wind = np.isnan(valid_wind_data).sum()\n",
    "\n",
    "print('Number of NaN values in Temp:', nan_count_temp)\n",
    "print('Number of NaN values in Tmax:', nan_count_tmax)\n",
    "print('Number of NaN values in Tmin:', nan_count_tmin)\n",
    "print('Number of NaN values in Wind:', nan_count_wind)"
   ]
  },
  {
   "cell_type": "code",
   "execution_count": 30,
   "id": "9c5f06bb",
   "metadata": {},
   "outputs": [],
   "source": [
    "def fill_nan_with_mean(data):\n",
    "    col_mean = np.nanmean(data, axis=0)  # Calculate mean per column\n",
    "    inds = np.where(np.isnan(data))\n",
    "    data[inds] = np.take(col_mean, inds[1])  # Replace NaNs with mean\n",
    "    return data\n",
    "\n",
    "temp_filled = fill_nan_with_mean(valid_temp_data.copy())  \n",
    "tmax_filled = fill_nan_with_mean(valid_tmax_data.copy())\n",
    "tmin_filled = fill_nan_with_mean(valid_tmin_data.copy())\n",
    "wind_filled = fill_nan_with_mean(valid_wind_data.copy())"
   ]
  },
  {
   "cell_type": "code",
   "execution_count": 31,
   "id": "c306b59a",
   "metadata": {},
   "outputs": [
    {
     "name": "stdout",
     "output_type": "stream",
     "text": [
      "Number of NaN values in Temp: 0\n",
      "Number of NaN values in Tmax: 0\n",
      "Number of NaN values in Tmin: 0\n",
      "Number of NaN values in Tmin: 0\n"
     ]
    }
   ],
   "source": [
    "nan_count_temp = np.isnan(temp_filled).sum()\n",
    "nan_count_tmax = np.isnan(tmax_filled).sum()\n",
    "nan_count_tmin = np.isnan(tmin_filled).sum()\n",
    "nan_count_wind = np.isnan(wind_filled).sum()\n",
    "\n",
    "print('Number of NaN values in Temp:', nan_count_temp)\n",
    "print('Number of NaN values in Tmax:', nan_count_tmax)\n",
    "print('Number of NaN values in Tmin:', nan_count_tmin)\n",
    "print('Number of NaN values in Tmin:', nan_count_tmin)"
   ]
  },
  {
   "cell_type": "code",
   "execution_count": 32,
   "id": "3fc1423a",
   "metadata": {},
   "outputs": [
    {
     "name": "stdout",
     "output_type": "stream",
     "text": [
      "(648, 64, 25)\n",
      "(648, 64, 25)\n",
      "(648, 64, 25)\n",
      "(648, 64, 25)\n"
     ]
    }
   ],
   "source": [
    "print(temp_filled.shape)\n",
    "print(tmax_filled.shape)\n",
    "print(tmin_filled.shape)\n",
    "print(wind_filled.shape)"
   ]
  },
  {
   "cell_type": "code",
   "execution_count": 33,
   "id": "ee3f4e74",
   "metadata": {},
   "outputs": [],
   "source": [
    "def prepare_for_convlstm(data, seq_length, num_channels):  \n",
    "    batch_size = 32  \n",
    "    data = data.reshape(batch_size, seq_length, num_channels, h, w)\n",
    "    return data "
   ]
  },
  {
   "cell_type": "code",
   "execution_count": 34,
   "id": "59548ea7",
   "metadata": {},
   "outputs": [],
   "source": [
    "rain_tensor = torch.from_numpy(valid_rain_data)\n",
    "temp_tensor = torch.from_numpy(temp_filled)\n",
    "hurs_tensor = torch.from_numpy(valid_hurs_data)\n",
    "frost_tensor = torch.from_numpy(valid_frost_data)\n",
    "sun_tensor = torch.from_numpy(valid_sun_data)\n",
    "wind_tensor = torch.from_numpy(wind_filled)\n",
    "psl_tensor = torch.from_numpy(valid_psl_data)\n",
    "tmax_tensor = torch.from_numpy(tmax_filled)\n",
    "tmin_tensor = torch.from_numpy(tmin_filled)"
   ]
  },
  {
   "cell_type": "code",
   "execution_count": 35,
   "id": "e1095bed",
   "metadata": {},
   "outputs": [],
   "source": [
    "variables = [rain_tensor, temp_tensor, hurs_tensor, frost_tensor, sun_tensor, wind_tensor, psl_tensor, tmax_tensor, tmin_tensor] \n",
    "\n",
    "# Stack along the channels dimension (dim=1)\n",
    "stacked_tensor = torch.stack(variables, dim=1)  "
   ]
  },
  {
   "cell_type": "code",
   "execution_count": 36,
   "id": "20332f5b",
   "metadata": {},
   "outputs": [
    {
     "name": "stdout",
     "output_type": "stream",
     "text": [
      "(648, 9, 64, 25)\n"
     ]
    }
   ],
   "source": [
    "stacked_array = stacked_tensor.numpy() \n",
    "\n",
    "print(stacked_array.shape)"
   ]
  },
  {
   "cell_type": "code",
   "execution_count": 37,
   "id": "51b92b8d",
   "metadata": {},
   "outputs": [],
   "source": [
    "def create_labels(num_data_points):\n",
    "    \"\"\"\n",
    "    Creates labels for the climate data, assigning 0 for pre-1990 and 1 for post-1990. \n",
    "    Data is in chronological order from January 1969.\n",
    "\n",
    "    Args:\n",
    "        num_data_points: The total number of data points (months) in dataset\n",
    "\n",
    "    Returns:\n",
    "        A NumPy array of labels.\n",
    "    \"\"\"\n",
    "\n",
    "    years = np.linspace(1969, 2023, 648)  \n",
    "    labels = np.where(years < 1989, 0, 1) \n",
    "\n",
    "    \n",
    "    return labels[:num_data_points] \n",
    "\n",
    "num_samples = stacked_array.shape[0]\n",
    "labels = create_labels(num_samples) "
   ]
  },
  {
   "cell_type": "code",
   "execution_count": 38,
   "id": "21b88a25",
   "metadata": {},
   "outputs": [],
   "source": [
    "from convlstm import ConvLSTM"
   ]
  },
  {
   "cell_type": "code",
   "execution_count": 39,
   "id": "2d6ecdb1",
   "metadata": {},
   "outputs": [],
   "source": [
    "import torch  \n",
    "\n",
    "num_layers = 2  \n",
    "hidden_dim = 64 \n",
    "kernel_size = (5, 5)  \n",
    "input_channels = 9   \n",
    "\n",
    "model = ConvLSTM(input_dim=input_channels,\n",
    "                    hidden_dim=hidden_dim,\n",
    "                    kernel_size=kernel_size,\n",
    "                    num_layers=num_layers,\n",
    "                    batch_first=True,  \n",
    "                    return_all_layers=False)"
   ]
  },
  {
   "cell_type": "code",
   "execution_count": 40,
   "id": "ef60d23e",
   "metadata": {},
   "outputs": [
    {
     "name": "stdout",
     "output_type": "stream",
     "text": [
      "Reshaped Data (648, 14400)\n",
      "Labels (648,)\n"
     ]
    }
   ],
   "source": [
    "from sklearn.model_selection import train_test_split\n",
    "\n",
    "num_samples = stacked_array.shape[0]\n",
    "reshaped_data = stacked_array.reshape(num_samples, -1)\n",
    "labels = create_labels(num_samples) \n",
    "\n",
    "print('Reshaped Data', reshaped_data.shape)  \n",
    "print('Labels', labels.shape)\n",
    "\n",
    "# Get indices for training and remaining data\n",
    "train_idx, remaining_idx = train_test_split(np.arange(num_samples), test_size=0.3, random_state=42, shuffle=True) \n",
    "\n",
    "# Subset data using calculated indices  \n",
    "X_train = reshaped_data[train_idx]\n",
    "y_train = labels[train_idx]\n",
    "\n",
    "# Get indices for validation and test within the \"remaining\" data\n",
    "val_idx, test_idx = train_test_split(remaining_idx, test_size=0.5, random_state=42, shuffle=True) \n",
    "\n",
    "# Subset the remaining data accordingly\n",
    "X_val = reshaped_data[val_idx]\n",
    "y_val = labels[val_idx]\n",
    "\n",
    "X_test = reshaped_data[test_idx]\n",
    "y_test = labels[test_idx]\n",
    "\n",
    "X_train = torch.tensor(X_train, dtype=torch.float32)  \n",
    "X_val = torch.tensor(X_val, dtype=torch.float32)  \n",
    "X_test = torch.tensor(X_test, dtype=torch.float32)  \n",
    "\n",
    "y_train = torch.tensor(y_train, dtype=torch.long)  \n",
    "y_val = torch.tensor(y_val, dtype=torch.long)  \n",
    "y_test = torch.tensor(y_test, dtype=torch.long) "
   ]
  },
  {
   "cell_type": "code",
   "execution_count": 43,
   "id": "71482485",
   "metadata": {},
   "outputs": [
    {
     "data": {
      "text/plain": [
       "453"
      ]
     },
     "execution_count": 43,
     "metadata": {},
     "output_type": "execute_result"
    }
   ],
   "source": [
    "len(X_train)"
   ]
  },
  {
   "cell_type": "code",
   "execution_count": 41,
   "id": "7fc54c63",
   "metadata": {},
   "outputs": [],
   "source": [
    "import torch \n",
    "from torch.utils.data import Dataset, DataLoader\n",
    "\n",
    "class ClimateDataset(torch.utils.data.Dataset):\n",
    "    def __init__(self, X, y):\n",
    "        self.X = X.clone().detach()  # Change here\n",
    "        self.y = y.clone().detach() \n",
    "\n",
    "    def __len__(self):\n",
    "        return len(self.X)  \n",
    "\n",
    "    def __getitem__(self, index):\n",
    "        x = self.X[index]\n",
    "        x = x.unsqueeze(0)  \n",
    "        \n",
    "        label = self.y[index]\n",
    "        one_hot_label = torch.zeros(2)  # Create a 2D vector \n",
    "        one_hot_label[label] = 1.0        \n",
    "        y = one_hot_label\n",
    "        return x, y  \n",
    "        "
   ]
  },
  {
   "cell_type": "code",
   "execution_count": 44,
   "id": "b8b6d161",
   "metadata": {},
   "outputs": [],
   "source": [
    "def reshape_for_convlstm(X, seq_length): \n",
    "    channels = 9\n",
    "    height = 64\n",
    "    width = 25\n",
    "    return X.reshape(seq_length, channels, height, width) \n",
    "\n",
    "X_train = reshape_for_convlstm(X_train, seq_length=len(X_train))\n",
    "X_val = reshape_for_convlstm(X_val, seq_length=len(X_val))\n",
    "X_test = reshape_for_convlstm(X_test, seq_length=len(X_test))"
   ]
  },
  {
   "cell_type": "code",
   "execution_count": 45,
   "id": "ee329c90",
   "metadata": {},
   "outputs": [
    {
     "name": "stdout",
     "output_type": "stream",
     "text": [
      "Shape of training torch.Size([453, 9, 64, 25])\n",
      "Shape of validation torch.Size([97, 9, 64, 25])\n",
      "Shape of testing torch.Size([98, 9, 64, 25])\n"
     ]
    }
   ],
   "source": [
    "print('Shape of training', X_train.shape)\n",
    "print('Shape of validation', X_val.shape)\n",
    "print('Shape of testing', X_test.shape)"
   ]
  },
  {
   "cell_type": "code",
   "execution_count": 46,
   "id": "468a761b",
   "metadata": {},
   "outputs": [
    {
     "name": "stdout",
     "output_type": "stream",
     "text": [
      "Train Dataset Length: 453\n",
      "Validation Dataset Length: 97\n"
     ]
    }
   ],
   "source": [
    "train_dataset = ClimateDataset(X_train, y_train)\n",
    "val_dataset = ClimateDataset(X_val, y_val)\n",
    "test_dataset = ClimateDataset(X_test, y_test)\n",
    "\n",
    "train_dataloader = DataLoader(train_dataset, batch_size=32, shuffle=True)\n",
    "val_dataloader = DataLoader(val_dataset, batch_size=32, shuffle=False)  \n",
    "test_dataloader = DataLoader(test_dataset, batch_size=32, shuffle=False)\n",
    "dataloaders = {'train': train_dataloader, 'val': val_dataloader}\n",
    "\n",
    "print(\"Train Dataset Length:\",  len(dataloaders['train'].dataset)) \n",
    "print(\"Validation Dataset Length:\",  len(dataloaders['val'].dataset)) "
   ]
  },
  {
   "cell_type": "code",
   "execution_count": 51,
   "id": "56fa02d4",
   "metadata": {},
   "outputs": [],
   "source": [
    "import torch.nn as nn\n",
    "device = torch.device(\"cpu\") # Weight for the positive class (ratio of negative to positive examples)\n",
    "criterion = nn.BCEWithLogitsLoss()\n",
    "optimizer = torch.optim.Adam(model.parameters(), lr=0.001) \n",
    "num_epochs = 100"
   ]
  },
  {
   "cell_type": "code",
   "execution_count": 52,
   "id": "51f9c8ab",
   "metadata": {},
   "outputs": [],
   "source": [
    "import time \n",
    "\n",
    "def train_model(model, dataloaders, criterion, optimizer, num_epochs):\n",
    "    train_losses, val_losses = [], []  \n",
    "    train_accuracies, val_accuracies = [], []  \n",
    "\n",
    "    for epoch in range(num_epochs):\n",
    "        start_time = time.time()\n",
    "\n",
    "        for phase in ['train', 'val']:\n",
    "            if phase == 'train':\n",
    "                model.train()  # Set model to training mode\n",
    "            else:\n",
    "                model.eval()   # Set model to evaluation mode\n",
    "\n",
    "            running_loss = 0.0\n",
    "            running_corrects = 0\n",
    "\n",
    "            # Iterate over data.\n",
    "            for inputs, labels in dataloaders[phase]:\n",
    "                inputs = inputs.to(device)  # Assuming you have a 'device' \n",
    "                labels = labels.to(device)\n",
    "\n",
    "                optimizer.zero_grad() # Zero the gradients\n",
    "\n",
    "                # Only calculate and update gradients during training\n",
    "                with torch.set_grad_enabled(phase == 'train'):\n",
    "                    outputs = model(inputs) \n",
    "                    loss = criterion(outputs, labels) \n",
    "\n",
    "                    _, preds = torch.max(outputs, 1)  \n",
    "\n",
    "                    if phase == 'train':\n",
    "                        loss.backward()\n",
    "                        optimizer.step()\n",
    "\n",
    "                # Calculate statistics \n",
    "                running_loss += loss.item() * inputs.size(0)\n",
    "                _, preds = torch.max(outputs, dim=1) \n",
    "                _, labels_indices = torch.max(labels, dim=1)  # Convert labels back \n",
    "                running_corrects += torch.sum(preds == labels_indices)\n",
    "\n",
    "            # Calculate and record metrics per epoch\n",
    "            epoch_loss = running_loss / len(dataloaders[phase].dataset)\n",
    "            epoch_acc = running_corrects.double() / len(dataloaders[phase].dataset)\n",
    "\n",
    "            if phase == 'train':\n",
    "                train_losses.append(epoch_loss)\n",
    "                train_accuracies.append(epoch_acc)\n",
    "            else:\n",
    "                val_losses.append(epoch_loss)\n",
    "                val_accuracies.append(epoch_acc)\n",
    "\n",
    "            end_time = time.time()\n",
    "            time_elapsed = end_time - start_time\n",
    "\n",
    "            print(f'Epoch {epoch+1}/{num_epochs}, {phase} Loss: {epoch_loss:.4f}, Acc: {epoch_acc:.4f}, Time: {time_elapsed:.2f}s') \n",
    "\n",
    "    return model, train_losses, val_losses, train_accuracies, val_accuracies "
   ]
  },
  {
   "cell_type": "code",
   "execution_count": 53,
   "id": "ca88cb40",
   "metadata": {},
   "outputs": [],
   "source": [
    "import matplotlib.pyplot as plt\n",
    "\n",
    "def plot_results(train_losses, val_losses, train_accuracies, val_accuracies):\n",
    "    plt.figure(figsize=(10,5))\n",
    "\n",
    "    # Losses\n",
    "    plt.subplot(1, 2, 1) # 1 row, 2 columns, 1st subplot\n",
    "    plt.plot(train_losses, label='Training Loss')\n",
    "    plt.plot(val_losses, label='Validation Loss')\n",
    "    plt.xlabel('Epoch')\n",
    "    plt.ylabel('Loss')\n",
    "    plt.legend()\n",
    "\n",
    "    # Accuracies\n",
    "    plt.subplot(1, 2, 2) # 1 row, 2 columns, 2nd subplot\n",
    "    plt.plot(train_accuracies, label='Training Accuracy')\n",
    "    plt.plot(val_accuracies, label='Validation Accuracy')\n",
    "    plt.xlabel('Epoch')\n",
    "    plt.ylabel('Accuracy')\n",
    "    plt.legend()\n",
    "\n",
    "    plt.show()"
   ]
  },
  {
   "cell_type": "code",
   "execution_count": 54,
   "id": "2d8cc2c8",
   "metadata": {
    "scrolled": false
   },
   "outputs": [
    {
     "name": "stdout",
     "output_type": "stream",
     "text": [
      "Epoch 1/100, train Loss: 0.6936, Acc: 0.4923, Time: 18.25s\n",
      "Epoch 1/100, val Loss: 0.6935, Acc: 0.4742, Time: 19.80s\n",
      "Epoch 2/100, train Loss: 0.6939, Acc: 0.4415, Time: 19.24s\n",
      "Epoch 2/100, val Loss: 0.6942, Acc: 0.4124, Time: 20.88s\n",
      "Epoch 3/100, train Loss: 0.6936, Acc: 0.4724, Time: 19.47s\n",
      "Epoch 3/100, val Loss: 0.6928, Acc: 0.4948, Time: 21.13s\n",
      "Epoch 4/100, train Loss: 0.6926, Acc: 0.5740, Time: 20.00s\n",
      "Epoch 4/100, val Loss: 0.6939, Acc: 0.4536, Time: 21.70s\n",
      "Epoch 5/100, train Loss: 0.6925, Acc: 0.5232, Time: 20.34s\n",
      "Epoch 5/100, val Loss: 0.6959, Acc: 0.4227, Time: 22.07s\n",
      "Epoch 6/100, train Loss: 0.6940, Acc: 0.5254, Time: 20.34s\n",
      "Epoch 6/100, val Loss: 0.6943, Acc: 0.5155, Time: 22.01s\n",
      "Epoch 7/100, train Loss: 0.6919, Acc: 0.5210, Time: 20.45s\n",
      "Epoch 7/100, val Loss: 0.6910, Acc: 0.5052, Time: 22.17s\n",
      "Epoch 8/100, train Loss: 0.6916, Acc: 0.5276, Time: 20.10s\n",
      "Epoch 8/100, val Loss: 0.6935, Acc: 0.5670, Time: 21.77s\n",
      "Epoch 9/100, train Loss: 0.6948, Acc: 0.4834, Time: 20.48s\n",
      "Epoch 9/100, val Loss: 0.7073, Acc: 0.3711, Time: 22.21s\n",
      "Epoch 10/100, train Loss: 0.6813, Acc: 0.6137, Time: 20.81s\n",
      "Epoch 10/100, val Loss: 0.7095, Acc: 0.4227, Time: 22.50s\n",
      "Epoch 11/100, train Loss: 0.7065, Acc: 0.4702, Time: 20.56s\n",
      "Epoch 11/100, val Loss: 0.7142, Acc: 0.4330, Time: 22.32s\n",
      "Epoch 12/100, train Loss: 0.6975, Acc: 0.4724, Time: 20.34s\n",
      "Epoch 12/100, val Loss: 0.6817, Acc: 0.6082, Time: 22.04s\n",
      "Epoch 13/100, train Loss: 0.6971, Acc: 0.4481, Time: 20.96s\n",
      "Epoch 13/100, val Loss: 0.6957, Acc: 0.4124, Time: 22.75s\n",
      "Epoch 14/100, train Loss: 0.6918, Acc: 0.5143, Time: 20.32s\n",
      "Epoch 14/100, val Loss: 0.6946, Acc: 0.4536, Time: 22.08s\n",
      "Epoch 15/100, train Loss: 0.6937, Acc: 0.5033, Time: 20.89s\n",
      "Epoch 15/100, val Loss: 0.6942, Acc: 0.5155, Time: 22.62s\n",
      "Epoch 16/100, train Loss: 0.6932, Acc: 0.5099, Time: 20.92s\n",
      "Epoch 16/100, val Loss: 0.6951, Acc: 0.4433, Time: 22.73s\n",
      "Epoch 17/100, train Loss: 0.6946, Acc: 0.4746, Time: 21.00s\n",
      "Epoch 17/100, val Loss: 0.6916, Acc: 0.6186, Time: 22.77s\n",
      "Epoch 18/100, train Loss: 0.6937, Acc: 0.4393, Time: 21.00s\n",
      "Epoch 18/100, val Loss: 0.6932, Acc: 0.4639, Time: 22.74s\n",
      "Epoch 19/100, train Loss: 0.6932, Acc: 0.4812, Time: 21.03s\n",
      "Epoch 19/100, val Loss: 0.6933, Acc: 0.5361, Time: 22.74s\n",
      "Epoch 20/100, train Loss: 0.6930, Acc: 0.4901, Time: 21.47s\n",
      "Epoch 20/100, val Loss: 0.6931, Acc: 0.4433, Time: 23.26s\n",
      "Epoch 21/100, train Loss: 0.6930, Acc: 0.5011, Time: 21.03s\n",
      "Epoch 21/100, val Loss: 0.6927, Acc: 0.5361, Time: 22.84s\n",
      "Epoch 22/100, train Loss: 0.6931, Acc: 0.5210, Time: 20.62s\n",
      "Epoch 22/100, val Loss: 0.6924, Acc: 0.5052, Time: 22.42s\n",
      "Epoch 23/100, train Loss: 0.6932, Acc: 0.4901, Time: 21.52s\n",
      "Epoch 23/100, val Loss: 0.6947, Acc: 0.3918, Time: 23.29s\n",
      "Epoch 24/100, train Loss: 0.6932, Acc: 0.4834, Time: 20.75s\n",
      "Epoch 24/100, val Loss: 0.6957, Acc: 0.4330, Time: 22.58s\n",
      "Epoch 25/100, train Loss: 0.6920, Acc: 0.4901, Time: 21.39s\n",
      "Epoch 25/100, val Loss: 0.6921, Acc: 0.5670, Time: 23.19s\n",
      "Epoch 26/100, train Loss: 0.6926, Acc: 0.5541, Time: 20.94s\n",
      "Epoch 26/100, val Loss: 0.6944, Acc: 0.5567, Time: 22.58s\n",
      "Epoch 27/100, train Loss: 0.7013, Acc: 0.4525, Time: 21.33s\n",
      "Epoch 27/100, val Loss: 0.6929, Acc: 0.4433, Time: 23.16s\n",
      "Epoch 28/100, train Loss: 0.6942, Acc: 0.4415, Time: 21.16s\n",
      "Epoch 28/100, val Loss: 0.6918, Acc: 0.6289, Time: 22.93s\n",
      "Epoch 29/100, train Loss: 0.6933, Acc: 0.4857, Time: 21.26s\n",
      "Epoch 29/100, val Loss: 0.6926, Acc: 0.5258, Time: 23.11s\n",
      "Epoch 30/100, train Loss: 0.6931, Acc: 0.5254, Time: 21.68s\n",
      "Epoch 30/100, val Loss: 0.6943, Acc: 0.4330, Time: 23.44s\n",
      "Epoch 31/100, train Loss: 0.6928, Acc: 0.5254, Time: 21.43s\n",
      "Epoch 31/100, val Loss: 0.6942, Acc: 0.4536, Time: 23.19s\n",
      "Epoch 32/100, train Loss: 0.6936, Acc: 0.4658, Time: 21.23s\n",
      "Epoch 32/100, val Loss: 0.6939, Acc: 0.4227, Time: 22.98s\n",
      "Epoch 33/100, train Loss: 0.6926, Acc: 0.5143, Time: 21.43s\n",
      "Epoch 33/100, val Loss: 0.6931, Acc: 0.4639, Time: 23.24s\n",
      "Epoch 34/100, train Loss: 0.6931, Acc: 0.5210, Time: 21.58s\n",
      "Epoch 34/100, val Loss: 0.6944, Acc: 0.3814, Time: 23.39s\n",
      "Epoch 35/100, train Loss: 0.6933, Acc: 0.4592, Time: 21.45s\n",
      "Epoch 35/100, val Loss: 0.6942, Acc: 0.5052, Time: 23.26s\n",
      "Epoch 36/100, train Loss: 0.6922, Acc: 0.5386, Time: 21.86s\n",
      "Epoch 36/100, val Loss: 0.6928, Acc: 0.5464, Time: 23.65s\n",
      "Epoch 37/100, train Loss: 0.6936, Acc: 0.5143, Time: 21.78s\n",
      "Epoch 37/100, val Loss: 0.6960, Acc: 0.4330, Time: 23.61s\n",
      "Epoch 38/100, train Loss: 0.6938, Acc: 0.4481, Time: 21.50s\n",
      "Epoch 38/100, val Loss: 0.6930, Acc: 0.5155, Time: 23.24s\n",
      "Epoch 39/100, train Loss: 0.6936, Acc: 0.4790, Time: 21.69s\n",
      "Epoch 39/100, val Loss: 0.6939, Acc: 0.4227, Time: 23.56s\n",
      "Epoch 40/100, train Loss: 0.6934, Acc: 0.4768, Time: 21.28s\n",
      "Epoch 40/100, val Loss: 0.6919, Acc: 0.5567, Time: 22.98s\n",
      "Epoch 41/100, train Loss: 0.6941, Acc: 0.4128, Time: 21.72s\n",
      "Epoch 41/100, val Loss: 0.6937, Acc: 0.4227, Time: 23.57s\n",
      "Epoch 42/100, train Loss: 0.6931, Acc: 0.4790, Time: 21.73s\n",
      "Epoch 42/100, val Loss: 0.6935, Acc: 0.4433, Time: 23.57s\n",
      "Epoch 43/100, train Loss: 0.6932, Acc: 0.4702, Time: 21.79s\n",
      "Epoch 43/100, val Loss: 0.6946, Acc: 0.4639, Time: 23.65s\n",
      "Epoch 44/100, train Loss: 0.6936, Acc: 0.4349, Time: 22.16s\n",
      "Epoch 44/100, val Loss: 0.6930, Acc: 0.5361, Time: 23.98s\n",
      "Epoch 45/100, train Loss: 0.6929, Acc: 0.5210, Time: 21.39s\n",
      "Epoch 45/100, val Loss: 0.6941, Acc: 0.4948, Time: 23.14s\n",
      "Epoch 46/100, train Loss: 0.6935, Acc: 0.4879, Time: 21.74s\n",
      "Epoch 46/100, val Loss: 0.6935, Acc: 0.3918, Time: 23.55s\n",
      "Epoch 47/100, train Loss: 0.6931, Acc: 0.5143, Time: 21.50s\n",
      "Epoch 47/100, val Loss: 0.6934, Acc: 0.4639, Time: 23.38s\n",
      "Epoch 48/100, train Loss: 0.6925, Acc: 0.5629, Time: 22.18s\n",
      "Epoch 48/100, val Loss: 0.6948, Acc: 0.4330, Time: 24.04s\n",
      "Epoch 49/100, train Loss: 0.6932, Acc: 0.4790, Time: 21.71s\n",
      "Epoch 49/100, val Loss: 0.7049, Acc: 0.4845, Time: 23.50s\n",
      "Epoch 50/100, train Loss: 0.6952, Acc: 0.4570, Time: 21.12s\n",
      "Epoch 50/100, val Loss: 0.6909, Acc: 0.6186, Time: 22.89s\n",
      "Epoch 51/100, train Loss: 0.6936, Acc: 0.5121, Time: 21.58s\n",
      "Epoch 51/100, val Loss: 0.6937, Acc: 0.4124, Time: 23.29s\n",
      "Epoch 52/100, train Loss: 0.6931, Acc: 0.5143, Time: 22.10s\n",
      "Epoch 52/100, val Loss: 0.6926, Acc: 0.5670, Time: 23.89s\n",
      "Epoch 53/100, train Loss: 0.6931, Acc: 0.4834, Time: 21.81s\n",
      "Epoch 53/100, val Loss: 0.6935, Acc: 0.4845, Time: 23.67s\n",
      "Epoch 54/100, train Loss: 0.6932, Acc: 0.4724, Time: 21.53s\n",
      "Epoch 54/100, val Loss: 0.6934, Acc: 0.4948, Time: 23.42s\n",
      "Epoch 55/100, train Loss: 0.6928, Acc: 0.5364, Time: 21.56s\n",
      "Epoch 55/100, val Loss: 0.6933, Acc: 0.4639, Time: 23.38s\n",
      "Epoch 56/100, train Loss: 0.6928, Acc: 0.5408, Time: 21.62s\n",
      "Epoch 56/100, val Loss: 0.6931, Acc: 0.4948, Time: 23.39s\n",
      "Epoch 57/100, train Loss: 0.6934, Acc: 0.4879, Time: 22.29s\n",
      "Epoch 57/100, val Loss: 0.6942, Acc: 0.3918, Time: 24.16s\n",
      "Epoch 58/100, train Loss: 0.6924, Acc: 0.5784, Time: 22.06s\n",
      "Epoch 58/100, val Loss: 0.6929, Acc: 0.5464, Time: 23.95s\n",
      "Epoch 59/100, train Loss: 0.6929, Acc: 0.5254, Time: 21.93s\n",
      "Epoch 59/100, val Loss: 0.6941, Acc: 0.4330, Time: 23.74s\n",
      "Epoch 60/100, train Loss: 0.6934, Acc: 0.4746, Time: 21.85s\n",
      "Epoch 60/100, val Loss: 0.6944, Acc: 0.4639, Time: 23.59s\n",
      "Epoch 61/100, train Loss: 0.6936, Acc: 0.4702, Time: 21.86s\n",
      "Epoch 61/100, val Loss: 0.6927, Acc: 0.4845, Time: 23.73s\n",
      "Epoch 62/100, train Loss: 0.6924, Acc: 0.5342, Time: 21.17s\n",
      "Epoch 62/100, val Loss: 0.6933, Acc: 0.5773, Time: 23.03s\n",
      "Epoch 63/100, train Loss: 0.6927, Acc: 0.5430, Time: 22.18s\n",
      "Epoch 63/100, val Loss: 0.6921, Acc: 0.5361, Time: 23.94s\n",
      "Epoch 64/100, train Loss: 0.6935, Acc: 0.4945, Time: 21.49s\n",
      "Epoch 64/100, val Loss: 0.6933, Acc: 0.4433, Time: 23.38s\n",
      "Epoch 65/100, train Loss: 0.6936, Acc: 0.4879, Time: 21.73s\n",
      "Epoch 65/100, val Loss: 0.6936, Acc: 0.4124, Time: 23.58s\n",
      "Epoch 66/100, train Loss: 0.6928, Acc: 0.5320, Time: 21.81s\n",
      "Epoch 66/100, val Loss: 0.6922, Acc: 0.5464, Time: 23.61s\n",
      "Epoch 67/100, train Loss: 0.6935, Acc: 0.5099, Time: 21.52s\n",
      "Epoch 67/100, val Loss: 0.6947, Acc: 0.4330, Time: 23.39s\n",
      "Epoch 68/100, train Loss: 0.6936, Acc: 0.4702, Time: 21.94s\n",
      "Epoch 68/100, val Loss: 0.6959, Acc: 0.4330, Time: 23.73s\n",
      "Epoch 69/100, train Loss: 0.6927, Acc: 0.5033, Time: 21.87s\n",
      "Epoch 69/100, val Loss: 0.6945, Acc: 0.3918, Time: 23.72s\n",
      "Epoch 70/100, train Loss: 0.6936, Acc: 0.4945, Time: 22.17s\n",
      "Epoch 70/100, val Loss: 0.6924, Acc: 0.5464, Time: 24.02s\n"
     ]
    },
    {
     "name": "stdout",
     "output_type": "stream",
     "text": [
      "Epoch 71/100, train Loss: 0.6927, Acc: 0.5121, Time: 21.73s\n",
      "Epoch 71/100, val Loss: 0.6947, Acc: 0.4536, Time: 23.56s\n",
      "Epoch 72/100, train Loss: 0.6942, Acc: 0.5320, Time: 21.36s\n",
      "Epoch 72/100, val Loss: 0.6923, Acc: 0.5979, Time: 23.14s\n",
      "Epoch 73/100, train Loss: 0.6949, Acc: 0.5011, Time: 21.54s\n",
      "Epoch 73/100, val Loss: 0.6922, Acc: 0.5773, Time: 23.42s\n",
      "Epoch 74/100, train Loss: 0.6926, Acc: 0.5563, Time: 21.85s\n",
      "Epoch 74/100, val Loss: 0.6910, Acc: 0.6186, Time: 23.67s\n",
      "Epoch 75/100, train Loss: 0.6932, Acc: 0.5232, Time: 21.70s\n",
      "Epoch 75/100, val Loss: 0.6944, Acc: 0.4021, Time: 23.59s\n",
      "Epoch 76/100, train Loss: 0.6931, Acc: 0.4680, Time: 22.04s\n",
      "Epoch 76/100, val Loss: 0.6935, Acc: 0.4330, Time: 23.87s\n",
      "Epoch 77/100, train Loss: 0.6906, Acc: 0.5629, Time: 21.95s\n",
      "Epoch 77/100, val Loss: 0.6906, Acc: 0.5464, Time: 23.79s\n",
      "Epoch 78/100, train Loss: 0.6974, Acc: 0.4481, Time: 22.05s\n",
      "Epoch 78/100, val Loss: 0.7032, Acc: 0.3814, Time: 23.93s\n",
      "Epoch 79/100, train Loss: 0.6963, Acc: 0.4945, Time: 22.04s\n",
      "Epoch 79/100, val Loss: 0.6885, Acc: 0.5670, Time: 23.88s\n",
      "Epoch 80/100, train Loss: 0.6932, Acc: 0.4768, Time: 21.61s\n",
      "Epoch 80/100, val Loss: 0.6903, Acc: 0.5773, Time: 23.34s\n",
      "Epoch 81/100, train Loss: 0.6936, Acc: 0.4923, Time: 21.94s\n",
      "Epoch 81/100, val Loss: 0.6912, Acc: 0.6392, Time: 23.77s\n",
      "Epoch 82/100, train Loss: 0.6929, Acc: 0.5099, Time: 21.98s\n",
      "Epoch 82/100, val Loss: 0.6906, Acc: 0.5773, Time: 23.84s\n",
      "Epoch 83/100, train Loss: 0.6937, Acc: 0.4879, Time: 22.33s\n",
      "Epoch 83/100, val Loss: 0.6909, Acc: 0.5773, Time: 24.13s\n",
      "Epoch 84/100, train Loss: 0.6929, Acc: 0.5055, Time: 21.93s\n",
      "Epoch 84/100, val Loss: 0.6938, Acc: 0.5052, Time: 23.65s\n",
      "Epoch 85/100, train Loss: 0.6926, Acc: 0.5166, Time: 21.84s\n",
      "Epoch 85/100, val Loss: 0.6940, Acc: 0.4845, Time: 23.66s\n",
      "Epoch 86/100, train Loss: 0.6944, Acc: 0.4305, Time: 21.63s\n",
      "Epoch 86/100, val Loss: 0.6925, Acc: 0.6082, Time: 23.43s\n",
      "Epoch 87/100, train Loss: 0.6929, Acc: 0.5188, Time: 21.88s\n",
      "Epoch 87/100, val Loss: 0.6940, Acc: 0.4227, Time: 23.64s\n",
      "Epoch 88/100, train Loss: 0.6933, Acc: 0.4790, Time: 21.55s\n",
      "Epoch 88/100, val Loss: 0.6933, Acc: 0.5464, Time: 23.42s\n",
      "Epoch 89/100, train Loss: 0.6934, Acc: 0.4901, Time: 21.73s\n",
      "Epoch 89/100, val Loss: 0.6937, Acc: 0.4227, Time: 23.59s\n",
      "Epoch 90/100, train Loss: 0.6934, Acc: 0.4481, Time: 21.59s\n",
      "Epoch 90/100, val Loss: 0.6934, Acc: 0.4536, Time: 23.46s\n",
      "Epoch 91/100, train Loss: 0.6935, Acc: 0.4305, Time: 22.11s\n",
      "Epoch 91/100, val Loss: 0.6936, Acc: 0.4639, Time: 23.98s\n",
      "Epoch 92/100, train Loss: 0.6932, Acc: 0.4989, Time: 21.98s\n",
      "Epoch 92/100, val Loss: 0.6935, Acc: 0.4845, Time: 23.84s\n",
      "Epoch 93/100, train Loss: 0.6935, Acc: 0.3929, Time: 22.00s\n",
      "Epoch 93/100, val Loss: 0.6934, Acc: 0.4845, Time: 23.89s\n",
      "Epoch 94/100, train Loss: 0.6929, Acc: 0.5166, Time: 22.01s\n",
      "Epoch 94/100, val Loss: 0.6933, Acc: 0.4227, Time: 23.81s\n",
      "Epoch 95/100, train Loss: 0.6933, Acc: 0.4834, Time: 21.97s\n",
      "Epoch 95/100, val Loss: 0.6932, Acc: 0.4536, Time: 23.71s\n",
      "Epoch 96/100, train Loss: 0.6931, Acc: 0.5143, Time: 22.09s\n",
      "Epoch 96/100, val Loss: 0.6934, Acc: 0.5052, Time: 23.96s\n",
      "Epoch 97/100, train Loss: 0.6930, Acc: 0.5364, Time: 21.98s\n",
      "Epoch 97/100, val Loss: 0.6933, Acc: 0.5258, Time: 23.89s\n",
      "Epoch 98/100, train Loss: 0.6930, Acc: 0.5541, Time: 21.97s\n",
      "Epoch 98/100, val Loss: 0.6933, Acc: 0.5258, Time: 23.82s\n",
      "Epoch 99/100, train Loss: 0.6933, Acc: 0.4459, Time: 21.76s\n",
      "Epoch 99/100, val Loss: 0.6933, Acc: 0.4742, Time: 23.66s\n",
      "Epoch 100/100, train Loss: 0.6930, Acc: 0.5033, Time: 21.62s\n",
      "Epoch 100/100, val Loss: 0.6939, Acc: 0.4021, Time: 23.34s\n",
      "Final Training Accuracy: 0.5033\n",
      "Final Validation Accuracy: 0.4021\n"
     ]
    },
    {
     "data": {
      "image/png": "[encoded data removed]",
      "text/plain": [
       "<Figure size 1000x500 with 2 Axes>"
      ]
     },
     "metadata": {},
     "output_type": "display_data"
    }
   ],
   "source": [
    "model, train_losses, val_losses, train_accuracies, val_accuracies = train_model(model, dataloaders, criterion, optimizer, num_epochs)\n",
    "\n",
    "# Print final accuracies\n",
    "print(f'Final Training Accuracy: {train_accuracies[-1]:.4f}')\n",
    "print(f'Final Validation Accuracy: {val_accuracies[-1]:.4f}') \n",
    "\n",
    "plot_results(train_losses, val_losses, train_accuracies, val_accuracies) "
   ]
  },
  {
   "cell_type": "code",
   "execution_count": null,
   "id": "1bfcd717",
   "metadata": {},
   "outputs": [],
   "source": []
  }
 ],
 "metadata": {
  "kernelspec": {
   "display_name": "Python 3 (ipykernel)",
   "language": "python",
   "name": "python3"
  },
  "language_info": {
   "codemirror_mode": {
    "name": "ipython",
    "version": 3
   },
   "file_extension": ".py",
   "mimetype": "text/x-python",
   "name": "python",
   "nbconvert_exporter": "python",
   "pygments_lexer": "ipython3",
   "version": "3.11.5"
  }
 },
 "nbformat": 4,
 "nbformat_minor": 5
}
