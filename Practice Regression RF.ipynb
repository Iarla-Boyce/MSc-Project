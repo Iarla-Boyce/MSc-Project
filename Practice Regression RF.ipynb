{
 "cells": [
  {
   "cell_type": "code",
   "execution_count": 4,
   "id": "b8665ccf",
   "metadata": {},
   "outputs": [],
   "source": [
    "from sklearn.model_selection import train_test_split\n",
    "import xarray as xr\n",
    "import numpy as np\n",
    "import pandas as pd\n",
    "import seaborn as sns\n",
    "from sklearn.metrics import classification_report\n",
    "from sklearn.model_selection import cross_val_score\n",
    "from sklearn.metrics import roc_curve, auc\n",
    "import matplotlib.pyplot as plt\n",
    "from sklearn.preprocessing import LabelEncoder\n",
    "from skimage.measure import block_reduce\n",
    "from sklearn.preprocessing import MinMaxScaler\n",
    "from scipy.stats import sem\n",
    "from scipy.stats import t\n",
    "\n",
    "data_temp = xr.open_mfdataset(r\"C:\\Users\\iarla\\OneDrive\\Documents\\MSc_Project\\HadUK_data\\12km_Month_Temp\\*.nc\", parallel=True)\n",
    "data_tmax = xr.open_mfdataset(r\"C:\\Users\\iarla\\OneDrive\\Documents\\MSc_Project\\HadUK_data\\12km_Month_tmax\\*.nc\", parallel=True)\n",
    "data_tmin = xr.open_mfdataset(r\"C:\\Users\\iarla\\OneDrive\\Documents\\MSc_Project\\HadUK_data\\12km_Month_tmin\\*.nc\", parallel=True)\n",
    "data_rain = xr.open_mfdataset(r\"C:\\Users\\iarla\\OneDrive\\Documents\\MSc_Project\\HadUK_data\\12km_Month_Rain\\*.nc\", parallel=True)\n",
    "data_hurs = xr.open_mfdataset(r\"C:\\Users\\iarla\\OneDrive\\Documents\\MSc_Project\\HadUK_data\\12km_Month_Humidity\\*.nc\", parallel=True)\n",
    "data_sun = xr.open_mfdataset(r\"C:\\Users\\iarla\\OneDrive\\Documents\\MSc_Project\\HadUK_data\\12km_Month_Sun\\*.nc\", parallel=True)\n",
    "data_frost = xr.open_mfdataset(r\"C:\\Users\\iarla\\OneDrive\\Documents\\MSc_Project\\HadUK_data\\12km_Month_Frost\\*.nc\", parallel=True)\n",
    "data_psl = xr.open_mfdataset(r\"C:\\Users\\iarla\\OneDrive\\Documents\\MSc_Project\\HadUK_data\\12km_Month_psl\\*.nc\", parallel=True)\n",
    "data_wind = xr.open_mfdataset(r\"C:\\Users\\iarla\\OneDrive\\Documents\\MSc_Project\\HadUK_data\\12km_Month_Wind\\*.nc\", parallel=True)"
   ]
  },
  {
   "cell_type": "code",
   "execution_count": 6,
   "id": "ee0b9e7e",
   "metadata": {},
   "outputs": [],
   "source": [
    "rain = np.array(data_rain['rainfall'])\n",
    "hurs = np.array(data_hurs['hurs'])\n",
    "temp = np.array(data_temp['tas'])\n",
    "temp_max = np.array(data_tmax['tasmax'])\n",
    "temp_min = np.array(data_tmin['tasmin'])\n",
    "sun = np.array(data_sun['sun'])\n",
    "frost = np.array(data_frost['groundfrost'])\n",
    "psl = np.array(data_psl['psl'])\n",
    "wind = np.array(data_wind['sfcWind'])"
   ]
  },
  {
   "cell_type": "code",
   "execution_count": 9,
   "id": "575ef7b8",
   "metadata": {},
   "outputs": [],
   "source": [
    "min_length = len(wind)\n",
    "rain = rain[:min_length]\n",
    "hurs = hurs[:min_length]\n",
    "temp = temp[:min_length]\n",
    "temp_max = temp_max[:min_length]\n",
    "temp_min = temp_min[:min_length]\n",
    "sun = sun[:min_length]\n",
    "frost = frost[:min_length]\n",
    "wind = wind[:min_length]\n",
    "psl = psl[:min_length]"
   ]
  },
  {
   "cell_type": "code",
   "execution_count": 17,
   "id": "3214cd3c",
   "metadata": {},
   "outputs": [
    {
     "data": {
      "text/plain": [
       "85.96888773680799"
      ]
     },
     "execution_count": 17,
     "metadata": {},
     "output_type": "execute_result"
    }
   ],
   "source": []
  },
  {
   "cell_type": "code",
   "execution_count": 19,
   "id": "5e6f93f1",
   "metadata": {},
   "outputs": [],
   "source": [
    "time = np.linspace(1969,2023,648)\n",
    "\n",
    "rain_flat = rain.reshape(rain.shape[0], -1)  # Flatten all grid cells for each time step\n",
    "hurs_flat = hurs.reshape(hurs.shape[0], -1)\n",
    "temp_flat = temp.reshape(temp.shape[0], -1)\n",
    "temp_max_flat = temp_max.reshape(temp_max.shape[0], -1)\n",
    "temp_min_flat = temp_min.reshape(temp_min.shape[0], -1)\n",
    "sun_flat = sun.reshape(sun.shape[0], -1)\n",
    "frost_flat = frost.reshape(frost.shape[0], -1)\n",
    "wind_flat = wind.reshape(wind.shape[0], -1)\n",
    "psl_flat = psl.reshape(psl.shape[0], -1)\n"
   ]
  },
  {
   "cell_type": "code",
   "execution_count": 20,
   "id": "fcba3922",
   "metadata": {},
   "outputs": [
    {
     "data": {
      "text/plain": [
       "(648, 9184)"
      ]
     },
     "execution_count": 20,
     "metadata": {},
     "output_type": "execute_result"
    }
   ],
   "source": [
    "psl_flat.shape"
   ]
  },
  {
   "cell_type": "code",
   "execution_count": 25,
   "id": "fcf79323",
   "metadata": {},
   "outputs": [
    {
     "name": "stdout",
     "output_type": "stream",
     "text": [
      "           Rain       Hurs      Temp  Temp_Max  Temp_Min        Sun  \\\n",
      "1442  97.199969  88.014670  5.945635  8.564135  3.301113  66.901918   \n",
      "1443  92.625634  87.776992  6.107175  8.661650  3.525804  70.113541   \n",
      "1444  83.085132  87.342205  6.352391  9.060527  3.666079  74.088605   \n",
      "1445  77.290103  86.387695  6.428609  9.241482  3.715758  76.631510   \n",
      "1446  74.336589  86.147593  6.371309  9.299901  3.533701  76.078219   \n",
      "\n",
      "          Frost      Wind          Psl  Temp_Lag_1  ...  Temp_Lag_8  \\\n",
      "1442  19.302313  5.956586  1011.774673    5.994779  ...    6.831285   \n",
      "1443  19.192417  5.677099  1011.814594    5.945635  ...    6.857659   \n",
      "1444  18.791416  4.959681  1011.873417    6.107175  ...    6.841226   \n",
      "1445  18.091832  4.990169  1011.947486    6.352391  ...    6.805163   \n",
      "1446  18.888496  4.767054  1012.014692    6.428609  ...    6.297439   \n",
      "\n",
      "      Rain_Lag_8  Temp_Lag_9  Rain_Lag_9  Temp_Lag_10  Rain_Lag_10  \\\n",
      "1442   86.783093    6.911683   93.547495     6.892563   102.284484   \n",
      "1443   77.765670    6.831285   86.783093     6.911683    93.547495   \n",
      "1444   77.882652    6.857659   77.765670     6.831285    86.783093   \n",
      "1445   77.398875    6.841226   77.882652     6.857659    77.765670   \n",
      "1446   91.017830    6.805163   77.398875     6.841226    77.882652   \n",
      "\n",
      "      Temp_Lag_11  Rain_Lag_11  Temp_Lag_12  Rain_Lag_12  \n",
      "1442     6.848570    98.667020     7.328779    89.391884  \n",
      "1443     6.892563   102.284484     6.848570    98.667020  \n",
      "1444     6.911683    93.547495     6.892563   102.284484  \n",
      "1445     6.831285    86.783093     6.911683    93.547495  \n",
      "1446     6.857659    77.765670     6.831285    86.783093  \n",
      "\n",
      "[5 rows x 33 columns]\n"
     ]
    }
   ],
   "source": [
    "# Create a DataFrame excluding 'Time'\n",
    "df = pd.DataFrame({\n",
    "    'Rain': rain_flat.flatten(),\n",
    "    'Hurs': hurs_flat.flatten(),\n",
    "    'Temp': temp_flat.flatten(),\n",
    "    'Temp_Max': temp_max_flat.flatten(),\n",
    "    'Temp_Min': temp_min_flat.flatten(),\n",
    "    'Sun': sun_flat.flatten(),\n",
    "    'Frost': frost_flat.flatten(),\n",
    "    'Wind': wind_flat.flatten(),\n",
    "    'Psl': psl_flat.flatten(),\n",
    "})\n",
    "\n",
    "# Lagged features\n",
    "lags = 12  # Adjust based on the expected temporal patterns\n",
    "for i in range(1, lags + 1):\n",
    "    df[f'Temp_Lag_{i}'] = df['Temp'].shift(i)\n",
    "    df[f'Rain_Lag_{i}'] = df['Rain'].shift(i)\n",
    "    # Add columns for lagged features of other variables\n",
    "\n",
    "# Drop rows with NaN values introduced by lagging\n",
    "df = df.dropna()\n",
    "\n",
    "# Target variable (future temperatures over the entire grid)\n",
    "y = df['Temp'].values\n",
    "\n",
    "# Features\n",
    "X = df.drop(['Temp'], axis=1).values\n",
    "\n",
    "# Display the DataFrame (optional)\n",
    "print(df.head())\n"
   ]
  },
  {
   "cell_type": "code",
   "execution_count": 26,
   "id": "11e67028",
   "metadata": {},
   "outputs": [
    {
     "name": "stdout",
     "output_type": "stream",
     "text": [
      "Mean Squared Error: 0.005158640457323163\n"
     ]
    },
    {
     "data": {
      "image/png": "[encoded data removed]",
      "text/plain": [
       "<Figure size 640x480 with 1 Axes>"
      ]
     },
     "metadata": {},
     "output_type": "display_data"
    }
   ],
   "source": [
    "from sklearn.model_selection import train_test_split\n",
    "from sklearn.ensemble import RandomForestRegressor\n",
    "from sklearn.metrics import mean_squared_error\n",
    "\n",
    "# Train-test split\n",
    "X_train, X_test, y_train, y_test = train_test_split(X, y, test_size=0.2, random_state=42)\n",
    "\n",
    "# Initialize the Random Forest model\n",
    "rf_model = RandomForestRegressor(n_estimators=100, random_state=42)\n",
    "\n",
    "# Fit the model on the training data\n",
    "rf_model.fit(X_train, y_train)\n",
    "\n",
    "# Predict on the test data\n",
    "y_pred = rf_model.predict(X_test)\n",
    "\n",
    "# Evaluate the model (for example, using Mean Squared Error)\n",
    "mse = mean_squared_error(y_test, y_pred)\n",
    "print(f\"Mean Squared Error: {mse}\")\n",
    "\n",
    "\n",
    "import matplotlib.pyplot as plt\n",
    "\n",
    "# Scatter plot of true vs predicted values\n",
    "plt.scatter(y_test, y_pred, alpha=0.5)\n",
    "plt.title('True vs Predicted Values')\n",
    "plt.xlabel('True Values')\n",
    "plt.ylabel('Predicted Values')\n",
    "\n",
    "# Plot a diagonal line for reference\n",
    "plt.plot([min(y_test), max(y_test)], [min(y_test), max(y_test)], '--k', linewidth=2)\n",
    "\n",
    "# Display the MSE score on the plot\n",
    "plt.text(min(y_test), max(y_test), f'MSE: {mse:.2f}', verticalalignment='top', horizontalalignment='right')\n",
    "\n",
    "# Show the plot\n",
    "plt.show()\n"
   ]
  },
  {
   "cell_type": "code",
   "execution_count": 28,
   "id": "2d283e81",
   "metadata": {},
   "outputs": [
    {
     "name": "stdout",
     "output_type": "stream",
     "text": [
      "R-squared: 0.9997740293258556\n"
     ]
    }
   ],
   "source": [
    "from sklearn.metrics import r2_score\n",
    "\n",
    "# Calculate R-squared\n",
    "r2 = r2_score(y_test, y_pred)\n",
    "\n",
    "# Print the R-squared value\n",
    "print(f\"R-squared: {r2}\")\n"
   ]
  },
  {
   "cell_type": "code",
   "execution_count": 54,
   "id": "fd1158b2",
   "metadata": {},
   "outputs": [
    {
     "ename": "ValueError",
     "evalue": "X has 17 features, but RandomForestRegressor is expecting 32 features as input.",
     "output_type": "error",
     "traceback": [
      "\u001b[1;31m---------------------------------------------------------------------------\u001b[0m",
      "\u001b[1;31mValueError\u001b[0m                                Traceback (most recent call last)",
      "Cell \u001b[1;32mIn[54], line 39\u001b[0m\n\u001b[0;32m     36\u001b[0m \u001b[38;5;66;03m# 2. Use the Trained Model\u001b[39;00m\n\u001b[0;32m     37\u001b[0m \u001b[38;5;66;03m# Assume rf_model is your trained Random Forest model\u001b[39;00m\n\u001b[0;32m     38\u001b[0m \u001b[38;5;28;01mif\u001b[39;00m \u001b[38;5;129;01mnot\u001b[39;00m future_df\u001b[38;5;241m.\u001b[39mempty:\n\u001b[1;32m---> 39\u001b[0m     future_predictions \u001b[38;5;241m=\u001b[39m rf_model\u001b[38;5;241m.\u001b[39mpredict(future_features)\n\u001b[0;32m     41\u001b[0m     \u001b[38;5;66;03m# 3. Visualize Predictions\u001b[39;00m\n\u001b[0;32m     42\u001b[0m     plt\u001b[38;5;241m.\u001b[39mplot(df\u001b[38;5;241m.\u001b[39mindex, df[\u001b[38;5;124m'\u001b[39m\u001b[38;5;124mTemp\u001b[39m\u001b[38;5;124m'\u001b[39m], label\u001b[38;5;241m=\u001b[39m\u001b[38;5;124m'\u001b[39m\u001b[38;5;124mHistorical Data\u001b[39m\u001b[38;5;124m'\u001b[39m)\n",
      "File \u001b[1;32m~\\miniconda3\\envs\\jupyter-env\\Lib\\site-packages\\sklearn\\ensemble\\_forest.py:984\u001b[0m, in \u001b[0;36mForestRegressor.predict\u001b[1;34m(self, X)\u001b[0m\n\u001b[0;32m    982\u001b[0m check_is_fitted(\u001b[38;5;28mself\u001b[39m)\n\u001b[0;32m    983\u001b[0m \u001b[38;5;66;03m# Check data\u001b[39;00m\n\u001b[1;32m--> 984\u001b[0m X \u001b[38;5;241m=\u001b[39m \u001b[38;5;28mself\u001b[39m\u001b[38;5;241m.\u001b[39m_validate_X_predict(X)\n\u001b[0;32m    986\u001b[0m \u001b[38;5;66;03m# Assign chunk of trees to jobs\u001b[39;00m\n\u001b[0;32m    987\u001b[0m n_jobs, _, _ \u001b[38;5;241m=\u001b[39m _partition_estimators(\u001b[38;5;28mself\u001b[39m\u001b[38;5;241m.\u001b[39mn_estimators, \u001b[38;5;28mself\u001b[39m\u001b[38;5;241m.\u001b[39mn_jobs)\n",
      "File \u001b[1;32m~\\miniconda3\\envs\\jupyter-env\\Lib\\site-packages\\sklearn\\ensemble\\_forest.py:599\u001b[0m, in \u001b[0;36mBaseForest._validate_X_predict\u001b[1;34m(self, X)\u001b[0m\n\u001b[0;32m    596\u001b[0m \u001b[38;5;250m\u001b[39m\u001b[38;5;124;03m\"\"\"\u001b[39;00m\n\u001b[0;32m    597\u001b[0m \u001b[38;5;124;03mValidate X whenever one tries to predict, apply, predict_proba.\"\"\"\u001b[39;00m\n\u001b[0;32m    598\u001b[0m check_is_fitted(\u001b[38;5;28mself\u001b[39m)\n\u001b[1;32m--> 599\u001b[0m X \u001b[38;5;241m=\u001b[39m \u001b[38;5;28mself\u001b[39m\u001b[38;5;241m.\u001b[39m_validate_data(X, dtype\u001b[38;5;241m=\u001b[39mDTYPE, accept_sparse\u001b[38;5;241m=\u001b[39m\u001b[38;5;124m\"\u001b[39m\u001b[38;5;124mcsr\u001b[39m\u001b[38;5;124m\"\u001b[39m, reset\u001b[38;5;241m=\u001b[39m\u001b[38;5;28;01mFalse\u001b[39;00m)\n\u001b[0;32m    600\u001b[0m \u001b[38;5;28;01mif\u001b[39;00m issparse(X) \u001b[38;5;129;01mand\u001b[39;00m (X\u001b[38;5;241m.\u001b[39mindices\u001b[38;5;241m.\u001b[39mdtype \u001b[38;5;241m!=\u001b[39m np\u001b[38;5;241m.\u001b[39mintc \u001b[38;5;129;01mor\u001b[39;00m X\u001b[38;5;241m.\u001b[39mindptr\u001b[38;5;241m.\u001b[39mdtype \u001b[38;5;241m!=\u001b[39m np\u001b[38;5;241m.\u001b[39mintc):\n\u001b[0;32m    601\u001b[0m     \u001b[38;5;28;01mraise\u001b[39;00m \u001b[38;5;167;01mValueError\u001b[39;00m(\u001b[38;5;124m\"\u001b[39m\u001b[38;5;124mNo support for np.int64 index based sparse matrices\u001b[39m\u001b[38;5;124m\"\u001b[39m)\n",
      "File \u001b[1;32m~\\miniconda3\\envs\\jupyter-env\\Lib\\site-packages\\sklearn\\base.py:626\u001b[0m, in \u001b[0;36mBaseEstimator._validate_data\u001b[1;34m(self, X, y, reset, validate_separately, cast_to_ndarray, **check_params)\u001b[0m\n\u001b[0;32m    623\u001b[0m     out \u001b[38;5;241m=\u001b[39m X, y\n\u001b[0;32m    625\u001b[0m \u001b[38;5;28;01mif\u001b[39;00m \u001b[38;5;129;01mnot\u001b[39;00m no_val_X \u001b[38;5;129;01mand\u001b[39;00m check_params\u001b[38;5;241m.\u001b[39mget(\u001b[38;5;124m\"\u001b[39m\u001b[38;5;124mensure_2d\u001b[39m\u001b[38;5;124m\"\u001b[39m, \u001b[38;5;28;01mTrue\u001b[39;00m):\n\u001b[1;32m--> 626\u001b[0m     \u001b[38;5;28mself\u001b[39m\u001b[38;5;241m.\u001b[39m_check_n_features(X, reset\u001b[38;5;241m=\u001b[39mreset)\n\u001b[0;32m    628\u001b[0m \u001b[38;5;28;01mreturn\u001b[39;00m out\n",
      "File \u001b[1;32m~\\miniconda3\\envs\\jupyter-env\\Lib\\site-packages\\sklearn\\base.py:415\u001b[0m, in \u001b[0;36mBaseEstimator._check_n_features\u001b[1;34m(self, X, reset)\u001b[0m\n\u001b[0;32m    412\u001b[0m     \u001b[38;5;28;01mreturn\u001b[39;00m\n\u001b[0;32m    414\u001b[0m \u001b[38;5;28;01mif\u001b[39;00m n_features \u001b[38;5;241m!=\u001b[39m \u001b[38;5;28mself\u001b[39m\u001b[38;5;241m.\u001b[39mn_features_in_:\n\u001b[1;32m--> 415\u001b[0m     \u001b[38;5;28;01mraise\u001b[39;00m \u001b[38;5;167;01mValueError\u001b[39;00m(\n\u001b[0;32m    416\u001b[0m         \u001b[38;5;124mf\u001b[39m\u001b[38;5;124m\"\u001b[39m\u001b[38;5;124mX has \u001b[39m\u001b[38;5;132;01m{\u001b[39;00mn_features\u001b[38;5;132;01m}\u001b[39;00m\u001b[38;5;124m features, but \u001b[39m\u001b[38;5;132;01m{\u001b[39;00m\u001b[38;5;28mself\u001b[39m\u001b[38;5;241m.\u001b[39m\u001b[38;5;18m__class__\u001b[39m\u001b[38;5;241m.\u001b[39m\u001b[38;5;18m__name__\u001b[39m\u001b[38;5;132;01m}\u001b[39;00m\u001b[38;5;124m \u001b[39m\u001b[38;5;124m\"\u001b[39m\n\u001b[0;32m    417\u001b[0m         \u001b[38;5;124mf\u001b[39m\u001b[38;5;124m\"\u001b[39m\u001b[38;5;124mis expecting \u001b[39m\u001b[38;5;132;01m{\u001b[39;00m\u001b[38;5;28mself\u001b[39m\u001b[38;5;241m.\u001b[39mn_features_in_\u001b[38;5;132;01m}\u001b[39;00m\u001b[38;5;124m features as input.\u001b[39m\u001b[38;5;124m\"\u001b[39m\n\u001b[0;32m    418\u001b[0m     )\n",
      "\u001b[1;31mValueError\u001b[0m: X has 17 features, but RandomForestRegressor is expecting 32 features as input."
     ]
    }
   ],
   "source": [
    "import numpy as np\n",
    "import pandas as pd\n",
    "import matplotlib.pyplot as plt\n",
    "from sklearn.impute import KNNImputer\n",
    "\n",
    "# Assuming df is your original DataFrame with historical data\n",
    "# Ensure that df has lagged features for the historical period\n",
    "\n",
    "# 1. Prepare Future Features\n",
    "future_start_index = df.index.max() + 1\n",
    "future_end_index = future_start_index + 35  # Example: Predicting for 36 periods\n",
    "\n",
    "# Create future DataFrame with the same lagged features\n",
    "future_df = pd.DataFrame(index=range(future_start_index, future_end_index + 1))\n",
    "for lag in range(1, 13):  # Assuming you have lagged features up to lag 12\n",
    "    future_df[f'Temp_Lag_{lag}'] = df['Temp'].shift(lag)\n",
    "\n",
    "# Include additional features from the historical data\n",
    "additional_features = ['Frost', 'Hurs', 'Psl', 'Rain', 'Sun', 'Wind']\n",
    "for feature in additional_features:\n",
    "    future_df[feature] = df[feature].iloc[-1]  # Use the last available values\n",
    "\n",
    "# Use the last available values in the historical data for the first row of future_df\n",
    "last_available_values = df.iloc[-1][[f'Temp_Lag_{lag}' for lag in range(1, 13)]].values\n",
    "future_df.iloc[0, :12] = last_available_values  # Assign values to the first 12 columns\n",
    "\n",
    "# Initialize a new KNNImputer for future features\n",
    "future_imputer = KNNImputer(n_neighbors=5)  # Adjust the number of neighbors as needed\n",
    "\n",
    "# Impute missing values in future features using the new imputer\n",
    "imputed_future_df = future_imputer.fit_transform(future_df)\n",
    "\n",
    "# Extract features for prediction\n",
    "future_features = imputed_future_df[:, :-1]  # Exclude the last column (target variable)\n",
    "\n",
    "# 2. Use the Trained Model\n",
    "# Assume rf_model is your trained Random Forest model\n",
    "if not future_df.empty:\n",
    "    future_predictions = rf_model.predict(future_features)\n",
    "\n",
    "    # 3. Visualize Predictions\n",
    "    plt.plot(df.index, df['Temp'], label='Historical Data')\n",
    "    plt.plot(future_df.index, future_predictions, label='Future Predictions', linestyle='dashed')\n",
    "    plt.title('Historical and Future Temperature Predictions')\n",
    "    plt.xlabel('Index')\n",
    "    plt.ylabel('Temperature')\n",
    "    plt.legend()\n",
    "    plt.show()\n",
    "else:\n",
    "    print(\"No valid samples for future prediction.\")\n"
   ]
  },
  {
   "cell_type": "code",
   "execution_count": null,
   "id": "1be5ae7f",
   "metadata": {},
   "outputs": [],
   "source": []
  }
 ],
 "metadata": {
  "kernelspec": {
   "display_name": "Python 3 (ipykernel)",
   "language": "python",
   "name": "python3"
  },
  "language_info": {
   "codemirror_mode": {
    "name": "ipython",
    "version": 3
   },
   "file_extension": ".py",
   "mimetype": "text/x-python",
   "name": "python",
   "nbconvert_exporter": "python",
   "pygments_lexer": "ipython3",
   "version": "3.11.5"
  }
 },
 "nbformat": 4,
 "nbformat_minor": 5
}
